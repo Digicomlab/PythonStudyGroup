{
 "cells": [
  {
   "cell_type": "markdown",
   "id": "badfb07e-684b-43f8-954c-c2c8854254e9",
   "metadata": {},
   "source": [
    "## Exercise 1\n",
    "\n",
    "Write a programme that print \"Hello World\"."
   ]
  },
  {
   "cell_type": "code",
   "execution_count": null,
   "id": "66bc4cf2-e248-49a5-b3aa-8271e05f7530",
   "metadata": {},
   "outputs": [],
   "source": []
  },
  {
   "cell_type": "markdown",
   "id": "429f17a1-b8e0-4836-aff6-58332d8e0441",
   "metadata": {
    "tags": []
   },
   "source": [
    "## Exercise 2\n",
    "\n",
    "Write a program to compute gross pay. Use 35 hours and a rate of 2.75 per hour to test the program (the pay should be 96.25). The code block below almost work:"
   ]
  },
  {
   "cell_type": "code",
   "execution_count": null,
   "id": "02fd1eb0-1284-44f2-bd11-1fd9270bf743",
   "metadata": {},
   "outputs": [],
   "source": [
    "hours = 35\n",
    "rate =             # You need to fill in something here\n",
    "\n",
    "# Some calculations here\n",
    "\n",
    "# Print the output here"
   ]
  },
  {
   "cell_type": "markdown",
   "id": "bbc973cf-9147-4040-a0cb-398f59138749",
   "metadata": {},
   "source": [
    "## Exercise 3\n",
    "\n",
    "Write a program to covert Celsius to Fahrenheit.\n",
    "Note: the conversion goes: multiply Celsius degree by 1.8 and add 32\n",
    "\n",
    "Try write a line that automatically prints (without manually editing the texts): \n",
    "\"__ degree in Celsius is __ in Fahrenheit.\""
   ]
  },
  {
   "cell_type": "code",
   "execution_count": null,
   "id": "e8458773-6bf5-4b72-92e8-c37f4a3d43a2",
   "metadata": {},
   "outputs": [],
   "source": [
    "celsius = 32\n",
    "\n",
    "\n",
    "\n",
    "\n",
    "\n"
   ]
  }
 ],
 "metadata": {
  "kernelspec": {
   "display_name": "Python 3 (ipykernel)",
   "language": "python",
   "name": "python3"
  },
  "language_info": {
   "codemirror_mode": {
    "name": "ipython",
    "version": 3
   },
   "file_extension": ".py",
   "mimetype": "text/x-python",
   "name": "python",
   "nbconvert_exporter": "python",
   "pygments_lexer": "ipython3",
   "version": "3.9.18"
  }
 },
 "nbformat": 4,
 "nbformat_minor": 5
}
