{
 "cells": [
  {
   "cell_type": "code",
   "execution_count": null,
   "id": "8f5a8cb3-ebc2-4885-92e0-bccf6a866dc3",
   "metadata": {},
   "outputs": [],
   "source": [
    "from urllib.request import urlretrieve\n",
    "urlretrieve(\"https://raw.githubusercontent.com/uva-cw-ccs1/2324s2/main/week4/Tutorial/books.json\", \"books.json\")\n",
    "urlretrieve(\"https://raw.githubusercontent.com/justinchuntingho/PythonStudyGroup/main/mbox-short.txt\", \"mbox-short.txt\")"
   ]
  },
  {
   "cell_type": "markdown",
   "id": "9bb86d73-3e80-44ae-a7c0-093b68cf1f13",
   "metadata": {},
   "source": [
    "## Exercise 1\n",
    "\n",
    "Write a program to read through the `mbox-short.txt` and figure out who has sent the greatest number of mail messages. The program looks for 'From ' lines and takes the second word of those lines as the person who sent the mail. The program creates a Python dictionary that maps the sender's mail address to a count of the number of times they appear in the file. After the dictionary is produced, the program reads through the dictionary using a maximum loop to find the most prolific committer."
   ]
  },
  {
   "cell_type": "code",
   "execution_count": null,
   "id": "f3bbdea3-ffe1-4ca9-a325-0e107cd699b4",
   "metadata": {},
   "outputs": [],
   "source": []
  },
  {
   "cell_type": "markdown",
   "id": "4f212860-961e-49d4-b40e-8330542b0d67",
   "metadata": {},
   "source": [
    "## Exercise 2\n",
    "\n",
    "The json file `books.json` contains ratings of books. The json file is structured as follows: keys are titles of books and values the rating given to them on a scale from 1-10.\n",
    "Read the json file into a dictionary. Create a list of book titles that only contains books rated above average."
   ]
  },
  {
   "cell_type": "code",
   "execution_count": null,
   "id": "f1d604ef-1897-4c11-a2b0-716a65ddfafe",
   "metadata": {},
   "outputs": [],
   "source": [
    "import json\n",
    "with open(\"books.json\", mode = \"r\", encoding=\"utf-8\") as json_file:\n",
    "    books = json.load(json_file)"
   ]
  },
  {
   "cell_type": "code",
   "execution_count": null,
   "id": "4eff284c-f820-4bbb-b47b-47cdae9cfdce",
   "metadata": {},
   "outputs": [],
   "source": [
    "goodbooks = [] # Empty list\n",
    "\n",
    "for key,value in books.items():\n",
    "    # loop through the dictionary to: \n",
    "    # 1. calculate the average\n",
    "    # 2. filter only the above average books, append the name to the list\n",
    "\n",
    "print(goodbooks)"
   ]
  },
  {
   "cell_type": "markdown",
   "id": "63c49688-27e0-4b42-85eb-9fe85d1e5902",
   "metadata": {},
   "source": [
    "## Exercise 3\n",
    "\n",
    "Have a try with the Google Books API ([documentation](https://developers.google.com/books/docs/v1/using#PerformingSearch)).\n",
    "\n",
    "Below is a code block that works:"
   ]
  },
  {
   "cell_type": "code",
   "execution_count": null,
   "id": "8f23b3d6-ec58-4958-98ee-e36441110a62",
   "metadata": {},
   "outputs": [],
   "source": [
    "import json\n",
    "from urllib.request import urlopen\n",
    "\n",
    "api = \"https://www.googleapis.com/books/v1/volumes?q=\"\n",
    "query = \"isbn:9780261102217\"\n",
    "\n",
    "# send a request and get a JSON response\n",
    "resp = urlopen(api + query)\n",
    "# parse JSON into Python as a dictionary\n",
    "book_data = json.load(resp)"
   ]
  },
  {
   "cell_type": "code",
   "execution_count": null,
   "id": "d72ff460-1ba6-4e26-bdbd-b0649fb90bf7",
   "metadata": {
    "scrolled": true,
    "tags": []
   },
   "outputs": [],
   "source": [
    "# This is how we have a look at the returned data\n",
    "# From the dictionary object, we look inf the items (which is a list of dictionaries), then we find the first element\n",
    "book_data['items'][0]"
   ]
  },
  {
   "cell_type": "markdown",
   "id": "2c99031c-417f-44f8-a1f3-b6ccabc50872",
   "metadata": {},
   "source": [
    "Tasks: \n",
    "1. Can you write a script that show how many books are published by `Tolkien`. Use the `inauthor:` query? Tips: the count is written in the book_data\n",
    "2. Write a loop to get the titles? PS: By default you can only get the first 10, this is normal.\n",
    "\n",
    "Tips: Mindful of the structure of the data (it's really complex), the title is hidden under `items` and `volumeInfo`"
   ]
  },
  {
   "cell_type": "code",
   "execution_count": null,
   "id": "c3bbdd1b-8168-47e8-b8e2-bd877794cd66",
   "metadata": {},
   "outputs": [],
   "source": []
  }
 ],
 "metadata": {
  "kernelspec": {
   "display_name": "Python 3 (ipykernel)",
   "language": "python",
   "name": "python3"
  },
  "language_info": {
   "codemirror_mode": {
    "name": "ipython",
    "version": 3
   },
   "file_extension": ".py",
   "mimetype": "text/x-python",
   "name": "python",
   "nbconvert_exporter": "python",
   "pygments_lexer": "ipython3",
   "version": "3.9.18"
  }
 },
 "nbformat": 4,
 "nbformat_minor": 5
}
