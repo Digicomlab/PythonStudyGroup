{
 "cells": [
  {
   "cell_type": "markdown",
   "id": "65c4863e-a2c0-4cb8-8a3a-26a74e020ecf",
   "metadata": {
    "tags": []
   },
   "source": [
    "## Exercise 1\n",
    "\n",
    "Write a loop to check if the following numbers are even or odd."
   ]
  },
  {
   "cell_type": "code",
   "execution_count": null,
   "id": "715a476a-a59a-4a89-bf1b-207bec5477fd",
   "metadata": {},
   "outputs": [],
   "source": [
    "numbers = [1, 4, 7, 8, 9, 20, 1498]\n",
    "\n",
    "for number in numbers:\n",
    "    \n",
    "    # some conditional statements here\n",
    "    \n",
    "    # print \"even\" or \"odd\""
   ]
  },
  {
   "cell_type": "code",
   "execution_count": 4,
   "id": "74de6c93",
   "metadata": {},
   "outputs": [
    {
     "name": "stdout",
     "output_type": "stream",
     "text": [
      "<class 'float'>\n",
      "This 1 is odd\n",
      "<class 'float'>\n",
      "This 4 is odd\n",
      "<class 'float'>\n",
      "This 7 is odd\n",
      "<class 'float'>\n",
      "This 8 is odd\n",
      "<class 'float'>\n",
      "This 9 is odd\n",
      "<class 'float'>\n",
      "This 20 is odd\n",
      "<class 'float'>\n",
      "This 1498 is odd\n"
     ]
    }
   ],
   "source": [
    "## one of the given answers\n",
    "\n",
    "numbers = [1, 4, 7, 8, 9, 20, 1498]\n",
    "\n",
    "for number in numbers:\n",
    "    test = number/2\n",
    "    # print(type(test))\n",
    "    if type(test)==int:\n",
    "\n",
    "        print(\"This\", number, \"is even\")\n",
    "    else:\n",
    "        print(\"This\", number, \"is odd\")\n",
    "\n",
    "# this loop never prints out even\n",
    "# this is because when you define something like this (in the \"test = number/2\" part) it is always a float\n",
    "# you can check this by adding the line now inserted with #\n"
   ]
  },
  {
   "cell_type": "code",
   "execution_count": 5,
   "id": "2cead100",
   "metadata": {},
   "outputs": [
    {
     "name": "stdout",
     "output_type": "stream",
     "text": [
      "1 is odd\n",
      "4 is even\n",
      "7 is odd\n",
      "8 is even\n",
      "9 is odd\n",
      "20 is even\n",
      "1498 is even\n"
     ]
    }
   ],
   "source": [
    "# this one works!\n",
    "\n",
    "numbers = [1, 4, 7, 8, 9, 20, 1498]\n",
    "\n",
    "for number in numbers:\n",
    "    if number %2 == 0:\n",
    "        print(number, \"is even\")\n",
    "    else:\n",
    "        print(number, \"is odd\")\n"
   ]
  },
  {
   "cell_type": "markdown",
   "id": "e12fd8d3-9463-46d3-9c85-25e8eea94892",
   "metadata": {},
   "source": [
    "## Exercise 2\n",
    "\n",
    "Write a loop to count how may zeros are there in the list.\n",
    "\n",
    "Tips: Define a counter, add 1 every time when you find a match."
   ]
  },
  {
   "cell_type": "code",
   "execution_count": null,
   "id": "f3192da1-fa64-4c9c-ac68-51c77f00386e",
   "metadata": {},
   "outputs": [],
   "source": [
    "numbers = [3, 0, 6, 2, 4, 7, 0, 0, 3, 0, 6, 2, 4, 7, 7, 0, 5, 3, 4, 2, 0, 2, 1, 3, 9, 4, 2, 4, 3, 1, 4, 0, 6, 2, 4]\n",
    "\n",
    "counter = 0\n",
    "\n",
    "for number in numbers:\n",
    "    \n",
    "    # some conditional statements here\n",
    "    \n",
    "    # add 1 to the counter\n",
    "    \n",
    "# Remember to print at the end"
   ]
  },
  {
   "cell_type": "code",
   "execution_count": null,
   "id": "51d211ce",
   "metadata": {},
   "outputs": [],
   "source": [
    "# best answer\n",
    "\n",
    "for number in numbers:\n",
    "    if number == 0:\n",
    "        counter = counter + 1\n",
    "\n",
    "print(counter)"
   ]
  },
  {
   "cell_type": "code",
   "execution_count": 6,
   "id": "14ba0424",
   "metadata": {},
   "outputs": [
    {
     "name": "stdout",
     "output_type": "stream",
     "text": [
      "7\n"
     ]
    }
   ],
   "source": [
    "# answer that works but also contains unneeded code\n",
    "\n",
    "numbers = [3, 0, 6, 2, 4, 7, 0, 0, 3, 0, 6, 2, 4, 7, 7, 0, 5, 3, 4, 2, 0, 2, 1, 3, 9, 4, 2, 4, 3, 1, 4, 0, 6, 2, 4]\n",
    "\n",
    "counter = 0\n",
    "\n",
    "for number in numbers:\n",
    "    if number == 0:\n",
    "        counter += 1   # note that += is the same as counter + 1 in the cell above\n",
    "    else:              # you don't really need this last part\n",
    "        counter += 0\n",
    "\n",
    "print(counter)\n",
    "\n",
    "# the above works but: you don't need the 'else' part\n",
    "# it is best to keep your code as short as possible and avoid unnecessary lines. This keeps your code readible and understandable for other people."
   ]
  },
  {
   "cell_type": "code",
   "execution_count": null,
   "id": "b3e65bf8",
   "metadata": {},
   "outputs": [],
   "source": [
    "# intermezzo: what is the difference between\n",
    "\n",
    "print(counter)\n",
    "\n",
    "# and\n",
    "\n",
    "counter\n",
    "\n",
    "#both displays the value of counter\n",
    "\n",
    "#adding print inside a cell forces the program to print it no matter what. If you don't, printing the object may be skipped!"
   ]
  },
  {
   "cell_type": "markdown",
   "id": "ebee4610-b33e-4e1a-bbd4-96ca27afcdc2",
   "metadata": {},
   "source": [
    "## Exercise 3\n",
    "\n",
    "Write a programme to return the grade for score between 0.0 and 1.0. If the score is out of range, print an error. If the score is between 0.0 and 1.0, print a grade using the following table:\n",
    "\n",
    "Score |Grade\n",
    "--- | ---\n",
    "above 0.9 |A\n",
    "above 0.8 |B\n",
    "above 0.7 |C\n",
    "above 0.6 |D\n",
    "0.6 and below|F"
   ]
  },
  {
   "cell_type": "code",
   "execution_count": 19,
   "id": "5db570d8-0367-40fe-a4d5-f7d248a68da1",
   "metadata": {},
   "outputs": [
    {
     "name": "stdout",
     "output_type": "stream",
     "text": [
      "C\n",
      "B\n",
      "Error\n",
      "A\n",
      "Error\n",
      "F\n",
      "Error\n"
     ]
    }
   ],
   "source": [
    "# working answer\n",
    "\n",
    "scores = [0.72, 0.85, 2, \"0.91\", \"no idea\", \"0.6\", \"I forgot\"]\n",
    "\n",
    "for score in scores:      \n",
    "    # some conditional statements here\n",
    "    # print out the grade or the error\n",
    "    try:\n",
    "        if float(score) > 1.0:  #note that you can also transform the score once in a line above this one. This keeps your code shorter and therefore more transparent\n",
    "            print (\"Error\")\n",
    "        elif float(score) > 0.9:\n",
    "            print(\"A\")\n",
    "        elif float(score) > 0.8:\n",
    "            print (\"B\")\n",
    "        elif float(score) > 0.7:\n",
    "            print(\"C\")\n",
    "        elif float(score) > 0.6:\n",
    "            print(\"D\")\n",
    "        elif float(score) <= 0.6 and float(score) >= 0:\n",
    "            print(\"F\")\n",
    "        elif float(score) < 0:\n",
    "            print(\"Error\")\n",
    "    except:\n",
    "        print(\"Error\")\n",
    "\n",
    "    \n",
    "# be aware of try - except loops: they are designed so that if anything does not work in the 'for' part, it will skip to the 'except' part\n",
    "# this means that you will not know if something went wrong in the 'try' part and if you do, you won't know what went wrong there"
   ]
  },
  {
   "cell_type": "markdown",
   "id": "0425490f-64dd-40b4-b20a-200d6a1322c5",
   "metadata": {},
   "source": [
    "Note: The correct output should be: C, B, Error, A, Error, F, Error"
   ]
  },
  {
   "cell_type": "markdown",
   "id": "5371c7e9-7835-49dc-8561-4bbfebc9f3d5",
   "metadata": {},
   "source": [
    "## Challenge\n",
    "\n",
    "If you have already finished everything and you like a good challenge, here's an EXTREMELY hard one for you.\n",
    "\n",
    "Write a programme to find all prime numbers between 2 and 10.\n",
    "\n",
    "Tips: `range(2, 10)` will give you a number sequence from 2 to 10."
   ]
  }
 ],
 "metadata": {
  "kernelspec": {
   "display_name": "Python 3 (ipykernel)",
   "language": "python",
   "name": "python3"
  },
  "language_info": {
   "codemirror_mode": {
    "name": "ipython",
    "version": 3
   },
   "file_extension": ".py",
   "mimetype": "text/x-python",
   "name": "python",
   "nbconvert_exporter": "python",
   "pygments_lexer": "ipython3",
   "version": "3.9.6"
  }
 },
 "nbformat": 4,
 "nbformat_minor": 5
}
