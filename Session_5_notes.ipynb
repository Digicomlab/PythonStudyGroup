{
 "cells": [
  {
   "cell_type": "code",
   "execution_count": 1,
   "id": "8f5a8cb3-ebc2-4885-92e0-bccf6a866dc3",
   "metadata": {},
   "outputs": [
    {
     "data": {
      "text/plain": [
       "('mbox-short.txt', <http.client.HTTPMessage at 0x7fa8288020d0>)"
      ]
     },
     "execution_count": 1,
     "metadata": {},
     "output_type": "execute_result"
    }
   ],
   "source": [
    "from urllib.request import urlretrieve\n",
    "urlretrieve(\"https://raw.githubusercontent.com/uva-cw-ccs1/2324s2/main/week4/Tutorial/books.json\", \"books.json\")\n",
    "urlretrieve(\"https://raw.githubusercontent.com/justinchuntingho/PythonStudyGroup/main/mbox-short.txt\", \"mbox-short.txt\")"
   ]
  },
  {
   "cell_type": "markdown",
   "id": "9bb86d73-3e80-44ae-a7c0-093b68cf1f13",
   "metadata": {},
   "source": [
    "## Exercise 1\n",
    "\n",
    "Write a program to read through the `mbox-short.txt` and figure out who has sent the greatest number of mail messages. The program looks for 'From ' lines and takes the second word of those lines as the person who sent the mail. The program creates a Python dictionary that maps the sender's mail address to a count of the number of times they appear in the file. After the dictionary is produced, the program reads through the dictionary using a maximum loop to find the most prolific committer."
   ]
  },
  {
   "cell_type": "markdown",
   "id": "7c360264",
   "metadata": {},
   "source": [
    "### Notes & solutions"
   ]
  },
  {
   "cell_type": "code",
   "execution_count": null,
   "id": "5655e290",
   "metadata": {},
   "outputs": [],
   "source": [
    "fh = open(\"mbox-short.txt\")\n",
    "\n",
    "emails = list()\n",
    "counts = dict()\n",
    "\n",
    "for line in fh: #loop through the file\n",
    "    if line.startswith(\"From:\"): #find line starting with \"Frome:\"\n",
    "        words = line.split() #split lines into words\n",
    "        emails.append(words[1]) #find second word - email\n",
    "        for email in emails:\n",
    "            counts[email]=counts.get(email,0)+1\n",
    "\n",
    "bigcount = None\n",
    "bigemail = None\n",
    "for email,count in counts.items():\n",
    "    if bigcount is None or count > bigcount:\n",
    "        bigemail = email\n",
    "        bigcount = count\n",
    "\n",
    "#This solution will not work when there are two keys with the same count\n",
    "\n",
    "print(bigemail, bigcount)"
   ]
  },
  {
   "cell_type": "code",
   "execution_count": null,
   "id": "724368d9",
   "metadata": {},
   "outputs": [],
   "source": [
    "#Alternative solution to the issue of two keys above\n",
    "\n",
    "for email,count in counts.items():\n",
    "    if count == max(count.values()):\n",
    "        print(email, count)"
   ]
  },
  {
   "cell_type": "code",
   "execution_count": null,
   "id": "745c27c4",
   "metadata": {},
   "outputs": [],
   "source": [
    "#Alternative solution, similar to solution above\n",
    "\n",
    "fh = open(\"mbox-short.txt\")\n",
    "counts = dict()\n",
    "emails = list()\n",
    "\n",
    "for line in fh:\n",
    "    mail_line = line.find('From:')\n",
    "    if mail_line >=0:\n",
    "        words = line.split()\n",
    "        emails.append(words[1])\n",
    "        for email in emails:\n",
    "            counts[email] = counts.get(email, 0) + 1\n",
    "\n",
    "print(counts)"
   ]
  },
  {
   "cell_type": "code",
   "execution_count": null,
   "id": "f34efd7a",
   "metadata": {},
   "outputs": [],
   "source": [
    "#Another solution\n",
    "\n",
    "fh = open(\"mbox-short.txt\")\n",
    "senders = {}\n",
    "for line in fh:\n",
    "    if line.startswith(\"From \"):\n",
    "        sender = line.split()[1]\n",
    "        senders[sender] = senders.get(sender, 0) + 1\n",
    "print(senders)\n",
    "max(senders, key = senders.get)"
   ]
  },
  {
   "cell_type": "markdown",
   "id": "4f212860-961e-49d4-b40e-8330542b0d67",
   "metadata": {},
   "source": [
    "## Exercise 2\n",
    "\n",
    "The json file `books.json` contains ratings of books. The json file is structured as follows: keys are titles of books and values the rating given to them on a scale from 1-10.\n",
    "Read the json file into a dictionary. Create a list of book titles that only contains books rated above average."
   ]
  },
  {
   "cell_type": "code",
   "execution_count": 28,
   "id": "f1d604ef-1897-4c11-a2b0-716a65ddfafe",
   "metadata": {},
   "outputs": [],
   "source": [
    "import json\n",
    "with open(\"books.json\", mode = \"r\", encoding=\"utf-8\") as json_file:\n",
    "    books = json.load(json_file)"
   ]
  },
  {
   "cell_type": "code",
   "execution_count": null,
   "id": "4eff284c-f820-4bbb-b47b-47cdae9cfdce",
   "metadata": {},
   "outputs": [],
   "source": [
    "goodbooks = [] # Empty list\n",
    "\n",
    "for key,value in books.items():\n",
    "    # loop through the dictionary to: \n",
    "    # 1. calculate the average\n",
    "    # 2. filter only the above average books, append the name to the list\n",
    "\n",
    "print(goodbooks)"
   ]
  },
  {
   "cell_type": "markdown",
   "id": "b1c3d28a",
   "metadata": {},
   "source": [
    "### Notes & solutions"
   ]
  },
  {
   "cell_type": "code",
   "execution_count": 41,
   "id": "8c5f3e89",
   "metadata": {},
   "outputs": [
    {
     "name": "stdout",
     "output_type": "stream",
     "text": [
      "['The Moon and Sixpence', 'What Men Live By, and Other Tales', 'A Portrait of the Artist as a Young Man', 'A Vindication of the Rights of Woman: With Strictures on Political and Moral Subjects', 'Line and Form (1900)', \"Lady Windermere's Fan\", 'The History Of The Decline And Fall Of The Roman Empire: Table of Contents with links in the HTML file to the two; Project Gutenberg editions (12 volumes)', 'Self-Control Its Kingship and Majesty', 'Simple Sabotage Field Manual', 'The Varieties of Religious Experience: A Study in Human Nature', 'Don Quijote', 'Utopia', 'A Shropshire Lad', 'Famous Modern Ghost Stories', 'Time In the Round', 'The Secret Adversary', 'Treasure Island', 'The Tribes and Castes of the Central Provinces of India, Volume 1', \"A Beginner's Psychology\", 'Looking Backward, 2000 to 1887', 'The Memoirs of Jacques Casanova de Seingalt, 1725-1798. Complete', 'A Woman of No Importance', 'Daddy-Long-Legs', 'The Satyricon — Complete', 'Dubliners', 'The Works of Edgar Allan Poe — Volume 3', 'Heart of Darkness', 'The New Life (La Vita Nuova)', \"Alice's Abenteuer im Wunderland\", 'Cookery and Dining in Imperial Rome', 'History of Tom Jones, a Foundling', 'Kim', 'The Memoirs of the Conquistador Bernal Diaz del Castillo, Vol 1 (of 2): Written by Himself Containing a True and Full Account of the Discovery and Conquest of Mexico and New Spain.', 'Beasts, Men and Gods', 'The King in Yellow', \"The Devil's Dictionary\", \"A Connecticut Yankee in King Arthur's Court\", 'The Scarlet Letter', 'Through the Looking-Glass', \"Lady Audley's Secret\", \"Voyage to Far N'jurd\", 'The Principles of Chemistry Volume I (of 2)', 'The Art of War', \"Gulliver's Travels into Several Remote Nations of the World\", 'The Kama Sutra of Vatsyayana: Translated From the Sanscrit in Seven Parts With Preface, Introduction and Concluding Remarks', 'The Poetics of Aristotle', 'Fifty Famous Stories Retold', 'As a Man Thinketh', 'The Spectator, Volumes 1, 2 and 3: With Translations and Index for the Series', 'The Picture of Dorian Gray', 'Villette', 'The Essays of \"George Eliot\": Complete', 'The Consolation of Philosophy', 'Les misérables Tome I: Fantine', 'The Woman in White', 'The Vampyre; a Tale']\n"
     ]
    }
   ],
   "source": [
    "#Possible solution\n",
    "\n",
    "ratings = []\n",
    "goodbooks = [] # Empty list\n",
    "\n",
    "for key,value in books.items():\n",
    "    if value is not None: #as some values are None, we need to make sure that they are not included when calculating average\n",
    "        value_int = int(value) #as some values are strings, we need to transform them to integers before calculating average\n",
    "        ratings.append(value_int) #here, we make a new list with only integers\n",
    "        average = sum(ratings)/len(ratings) # here we calculate the mean\n",
    "        if value_int > average:\n",
    "            goodbooks.append(key)\n",
    "\n",
    "print(goodbooks)"
   ]
  },
  {
   "cell_type": "code",
   "execution_count": 43,
   "id": "a02247f3",
   "metadata": {},
   "outputs": [
    {
     "name": "stdout",
     "output_type": "stream",
     "text": [
      "[4, 1, 3, 2, 5, 4, 1, 5, 2, 4, 9, 9, 3, 6, 1, 3, 7, 4, 3, 9, 4, 3, 9, 6, 7, 2, 8, 8, 9, 5, 9, 1, 2, 7, 9, 2, 4, 2, 9, 5, 1, 4, 9, 5, 9, 5, 1, 3, 2, 2, 1, 8, 7, 5, 6, 2, 8, 8, 4, 5, 5, 5, 4, 6, 6, 7, 8, 7, 3, 9, 7, 6, 6, 5, 4, 1, 5, 6, 8, 2, 4, 2, 6, 7, 9, 6, 1, 4, 3, 6, 3, 7, 6, 7, 4, 3, 3, 5, 7]\n"
     ]
    }
   ],
   "source": [
    "#Dealing with different data types - using list comprehension\n",
    "\n",
    "books_notnone = [int(book) for book in books.values() if book is not None]\n",
    "\n",
    "print(books_notnone)"
   ]
  },
  {
   "cell_type": "markdown",
   "id": "63c49688-27e0-4b42-85eb-9fe85d1e5902",
   "metadata": {},
   "source": [
    "## Exercise 3\n",
    "\n",
    "Have a try with the Google Books API ([documentation](https://developers.google.com/books/docs/v1/using#PerformingSearch)).\n",
    "\n",
    "Below is a code block that works:"
   ]
  },
  {
   "cell_type": "code",
   "execution_count": 50,
   "id": "8f23b3d6-ec58-4958-98ee-e36441110a62",
   "metadata": {},
   "outputs": [],
   "source": [
    "import json\n",
    "from urllib.request import urlopen\n",
    "\n",
    "api = \"https://www.googleapis.com/books/v1/volumes?q=\"\n",
    "query = \"isbn:9780261102217\"\n",
    "\n",
    "# send a request and get a JSON response - the response is not a dictionary yet\n",
    "resp = urlopen(api + query)\n",
    "# parse the response into Python as a dictionary\n",
    "book_data = json.load(resp)"
   ]
  },
  {
   "cell_type": "code",
   "execution_count": 51,
   "id": "b20c68ca",
   "metadata": {},
   "outputs": [
    {
     "data": {
      "text/plain": [
       "'https://www.googleapis.com/books/v1/volumes?q=isbn:9780261102217'"
      ]
     },
     "execution_count": 51,
     "metadata": {},
     "output_type": "execute_result"
    }
   ],
   "source": [
    "#You can access this address in your browser\n",
    "api + query"
   ]
  },
  {
   "cell_type": "code",
   "execution_count": 52,
   "id": "d72ff460-1ba6-4e26-bdbd-b0649fb90bf7",
   "metadata": {
    "scrolled": true,
    "tags": []
   },
   "outputs": [
    {
     "data": {
      "text/plain": [
       "{'title': 'The Hobbit, Or, There and Back Again',\n",
       " 'authors': ['J. R. R. Tolkien', 'John Ronald Reuel Tolkien'],\n",
       " 'publisher': 'HarperCollins UK',\n",
       " 'publishedDate': '1999',\n",
       " 'description': 'Features a tale of adventure, undertaken by a company of dwarves in search of dragon-guarded gold. A reluctant partner in this perilous quest is Bilbo Baggins, a comfort-loving unambitious hobbit. Encounters with trolls, goblins, dwarves, elves, giant spiders, and conversations with the dragon, are just some of the adventures that befall Bilbo. This is a new paperback edition of JRR Tolkien\\'s fantasy masterpiece, \"The Hobbit\". \"The Hobbit\" is a tale of high adventure, undertaken by a company of dwarves in search of dragon-guarded gold. A reluctant partner in this perilous quest is Bilbo Baggins, a comfort-loving unambitious hobbit, who surprises even himself by his resourcefulness and skill as a burglar. Encounters with trolls, goblins, dwarves, elves and giant spiders, conversations with the dragon, Smaug, and a rather unwilling presence at the Battle of Five Armies are just some of the adventures that befall Bilbo. Bilbo Baggins has taken his place among the ranks of the immortals of children\\'s fiction. Written by Professor Tolkien for his own children, \"The Hobbit\" met with instant critical acclaim when published.',\n",
       " 'industryIdentifiers': [{'type': 'ISBN_13', 'identifier': '9780261102217'},\n",
       "  {'type': 'ISBN_10', 'identifier': '0261102214'}],\n",
       " 'readingModes': {'text': False, 'image': False},\n",
       " 'pageCount': 55,\n",
       " 'printType': 'BOOK',\n",
       " 'categories': ['Fiction'],\n",
       " 'averageRating': 5,\n",
       " 'ratingsCount': 1,\n",
       " 'maturityRating': 'NOT_MATURE',\n",
       " 'allowAnonLogging': False,\n",
       " 'contentVersion': '1.2.2.0.preview.0',\n",
       " 'panelizationSummary': {'containsEpubBubbles': False,\n",
       "  'containsImageBubbles': False},\n",
       " 'imageLinks': {'smallThumbnail': 'http://books.google.com/books/content?id=-pOnG_VCzIsC&printsec=frontcover&img=1&zoom=5&source=gbs_api',\n",
       "  'thumbnail': 'http://books.google.com/books/content?id=-pOnG_VCzIsC&printsec=frontcover&img=1&zoom=1&source=gbs_api'},\n",
       " 'language': 'en',\n",
       " 'previewLink': 'http://books.google.nl/books?id=-pOnG_VCzIsC&dq=isbn:9780261102217&hl=&cd=1&source=gbs_api',\n",
       " 'infoLink': 'http://books.google.nl/books?id=-pOnG_VCzIsC&dq=isbn:9780261102217&hl=&source=gbs_api',\n",
       " 'canonicalVolumeLink': 'https://books.google.com/books/about/The_Hobbit_Or_There_and_Back_Again.html?hl=&id=-pOnG_VCzIsC'}"
      ]
     },
     "execution_count": 52,
     "metadata": {},
     "output_type": "execute_result"
    }
   ],
   "source": [
    "# This is how we have a look at the returned data\n",
    "# From the dictionary object, we look inf the items (which is a list of dictionaries), then we find the first element\n",
    "\n",
    "#book_data is a dictionary. The value of the key 'items' is a list of dictionaries. By accessing an element of that list, you can access elements of the dictionary\n",
    "book_data['items'][0]\n",
    "\n",
    "book_data['items'][0]['volumeInfo'] #accessing volumeInfo from the list\n"
   ]
  },
  {
   "cell_type": "code",
   "execution_count": 53,
   "id": "feb7e118",
   "metadata": {},
   "outputs": [
    {
     "data": {
      "text/plain": [
       "1"
      ]
     },
     "execution_count": 53,
     "metadata": {},
     "output_type": "execute_result"
    }
   ],
   "source": [
    "len(book_data['items']) #it is low as this is the max you can get on one page"
   ]
  },
  {
   "cell_type": "markdown",
   "id": "2c99031c-417f-44f8-a1f3-b6ccabc50872",
   "metadata": {},
   "source": [
    "Tasks: \n",
    "1. Can you write a script that show how many books are published by `Tolkien`. Use the `inauthor:` query? Tips: the count is written in the book_data\n",
    "2. Write a loop to get the titles? PS: By default you can only get the first 10, this is normal.\n",
    "\n",
    "Tips: Mindful of the structure of the data (it's really complex), the title is hidden under `items` and `volumeInfo`.\\\n",
    "Tips2: `book_data['items']` will return you a list, loop through it!"
   ]
  },
  {
   "cell_type": "code",
   "execution_count": null,
   "id": "c3bbdd1b-8168-47e8-b8e2-bd877794cd66",
   "metadata": {},
   "outputs": [],
   "source": [
    "pages = [10,20,30,40,50]\n",
    "\n",
    "book_data = []\n",
    "\n",
    "for page in pages:\n",
    "    resp = urlopen(api+'Tolkien'+'&startIndex='+str(page))\n",
    "    book_datum = json.load(resp)\n",
    "    for book in book_datum['items']:\n",
    "        book_data.append(book)"
   ]
  }
 ],
 "metadata": {
  "kernelspec": {
   "display_name": "Python 3 (ipykernel)",
   "language": "python",
   "name": "python3"
  },
  "language_info": {
   "codemirror_mode": {
    "name": "ipython",
    "version": 3
   },
   "file_extension": ".py",
   "mimetype": "text/x-python",
   "name": "python",
   "nbconvert_exporter": "python",
   "pygments_lexer": "ipython3",
   "version": "3.9.1"
  }
 },
 "nbformat": 4,
 "nbformat_minor": 5
}
