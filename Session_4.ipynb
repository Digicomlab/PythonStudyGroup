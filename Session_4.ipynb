{
 "cells": [
  {
   "cell_type": "code",
   "execution_count": null,
   "id": "c2952808-e1dd-43b5-a672-301fcb084258",
   "metadata": {},
   "outputs": [],
   "source": [
    "# Codes that download the file to your drive\n",
    "from urllib.request import urlretrieve\n",
    "urlretrieve(\"https://raw.githubusercontent.com/justinchuntingho/PythonStudyGroup/main/romeo.txt\", \"romeo.txt\")\n",
    "urlretrieve(\"https://raw.githubusercontent.com/justinchuntingho/PythonStudyGroup/main/mbox-short.txt\", \"mbox-short.txt\")"
   ]
  },
  {
   "cell_type": "markdown",
   "id": "cd3273a1-a72a-4466-af8f-2e289a9cea18",
   "metadata": {},
   "source": [
    "## Exercise 1\n",
    "\n",
    "Below you have some working codes for the last session's exercise. Try to define a new function that extracts the score from the text and return it as floating point number. Print out the average at the end.\n",
    "\n",
    "Tips: Move some of the codes from the loop to the function definition, and then put the function in the loop."
   ]
  },
  {
   "cell_type": "code",
   "execution_count": null,
   "id": "a47896c6-2cf0-4526-bbd2-1a652140fbdb",
   "metadata": {},
   "outputs": [],
   "source": [
    "def get_number(x):\n",
    "    # Codes here\n",
    "    # More codes here\n",
    "    # Remember to return\n",
    "\n",
    "\n",
    "fh = open(\"mbox-short.txt\")\n",
    "count = 0\n",
    "total = 0\n",
    "\n",
    "for line in fh:\n",
    "    if line.startswith (\"X-DSPAM-Confidence:\"):\n",
    "        count= count+1\n",
    "        pos = line.find('0')\n",
    "        number = line[pos:]\n",
    "        number = float(number)\n",
    "        total = total + number\n",
    "        \n",
    "average = total/count\n",
    "print (average)"
   ]
  },
  {
   "cell_type": "markdown",
   "id": "f9212faf-055f-4ece-81e9-5171925b9c57",
   "metadata": {},
   "source": [
    "## Exercise 3\n",
    "\n",
    "Open the file mbox-short.txt and read it line by line. When you find a line that starts with 'From ' like the following line:\n",
    "\n",
    "```From stephen.marquard@uct.ac.za Sat Jan  5 09:14:16 2008```\n",
    "\n",
    "Parse the From line using `split()` and append the email address to a list (second element of split line). Then print out the list and also a count at the end."
   ]
  },
  {
   "cell_type": "code",
   "execution_count": null,
   "id": "6e9696c6-144e-4707-a55b-2a0661d373e0",
   "metadata": {},
   "outputs": [],
   "source": [
    "fh = open(\"mbox-short.txt\")\n",
    "emails = list()\n",
    "\n",
    "# Your codes here\n",
    "\n"
   ]
  },
  {
   "cell_type": "markdown",
   "id": "0245a421-f9d2-4581-a432-c8e2924c6705",
   "metadata": {},
   "source": [
    "## Exercise 3\n",
    "\n",
    "Open the file romeo.txt and read it line by line. For each line, split the line into a list of words using the split() method. The program should build a list of words. For each word on each line check to see if the word is already in the list and if not append it to the list. When the program completes, sort and print the resulting words in python sort() order as shown in the desired output.\n",
    "\n",
    "The output should look like this:\n",
    "```\n",
    "['Arise', 'But', 'It', 'Juliet', 'Who', 'already', 'and', 'breaks', 'east', 'envious', 'fair', 'grief', 'is', 'kill', 'light', 'moon', 'pale', 'sick', 'soft', 'sun', 'the', 'through', 'what', 'window', 'with', 'yonder']\n",
    "```"
   ]
  },
  {
   "cell_type": "code",
   "execution_count": null,
   "id": "79ded118-a4bf-4525-bcc6-43da726e6a58",
   "metadata": {},
   "outputs": [],
   "source": [
    "fh = open(\"romeo.txt\")\n",
    "\n",
    "\n",
    "for line in fh:\n",
    "    # Change the following to what you need to do\n",
    "    print(line)"
   ]
  }
 ],
 "metadata": {
  "kernelspec": {
   "display_name": "Python 3 (ipykernel)",
   "language": "python",
   "name": "python3"
  },
  "language_info": {
   "codemirror_mode": {
    "name": "ipython",
    "version": 3
   },
   "file_extension": ".py",
   "mimetype": "text/x-python",
   "name": "python",
   "nbconvert_exporter": "python",
   "pygments_lexer": "ipython3",
   "version": "3.9.18"
  }
 },
 "nbformat": 4,
 "nbformat_minor": 5
}
