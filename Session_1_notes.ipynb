{
 "cells": [
  {
   "cell_type": "markdown",
   "id": "206f2da4",
   "metadata": {},
   "source": [
    "## Python Study Club - Hosted by Justin Ho @Digicomlab\n",
    "### Session 1 (8 April 2024)"
   ]
  },
  {
   "cell_type": "markdown",
   "id": "3e5158ba",
   "metadata": {},
   "source": [
    "- If Jupyter cannot be installed on your laptop (because it is UvA owned), you can use Google Colab (https://colab.research.google.com/) - note that you need to be logged in to google \n",
    "- This is something new we are trying! Please give us feedback!\n",
    "- All study materials are available on Git: https://github.com/justinchuntingho/PythonStudyGroup\n",
    "- The Git will be updated every week\n",
    "- We will work in a collaborative document: https://pad.carpentries.org/pythonsg\n",
    "- We take the course available here: https://www.py4e.com/lessons\n",
    "    - Note that we will not use everything of this course, just what we need\n",
    "    - The course contains videos that you watch at home and we work on exercises together during the sessions"
   ]
  },
  {
   "cell_type": "markdown",
   "id": "547ee5e1",
   "metadata": {},
   "source": [
    "##### Notes: Opening Jupyter lab\n",
    "\n",
    "Jupyter lab is an interface to work with Python (Python is a computer language and you need an interface to work with it). \n",
    "When opening a file, it sometimes asks you to select a kernel; this is a way of asking you what kind of Python script you want to write.\n",
    "\n",
    "*Question: How to download the notebook that we will work with and open it in Juputer lab?* \\\n",
    "Open the notebook (Session 1, https://raw.githubusercontent.com/justinchuntingho/PythonStudyGroup/main/Session_1.ipynb) as raw data in Git. Copy the URL and click File -> open from URL -> paste your URL."
   ]
  },
  {
   "cell_type": "markdown",
   "id": "badfb07e-684b-43f8-954c-c2c8854254e9",
   "metadata": {},
   "source": [
    "## Exercise 1\n",
    "\n",
    "Write a programme that print \"Hello World\"."
   ]
  },
  {
   "cell_type": "code",
   "execution_count": 1,
   "id": "66bc4cf2-e248-49a5-b3aa-8271e05f7530",
   "metadata": {},
   "outputs": [
    {
     "name": "stdout",
     "output_type": "stream",
     "text": [
      "Hello World\n"
     ]
    }
   ],
   "source": [
    "# answer\n",
    "\n",
    "print(\"Hello World\")"
   ]
  },
  {
   "cell_type": "markdown",
   "id": "a059850a",
   "metadata": {},
   "source": [
    "##### Notes: Solving error messages\n",
    "\n",
    "It is important to read the text that you get in error messages because this tells you how you can solve the error and get your code to run.\\\n",
    "When asking for help with an error message, it is important that you share your code becuase otherwise, it will be very difficult to understand why an error message is thrown.\\\n",
    "In our collaborative document (see above for link), you can copy/paste your code so that we can examine it together and solve the error message!"
   ]
  },
  {
   "cell_type": "markdown",
   "id": "429f17a1-b8e0-4836-aff6-58332d8e0441",
   "metadata": {
    "tags": []
   },
   "source": [
    "## Exercise 2\n",
    "\n",
    "Write a program to compute gross pay. Use 35 hours and a rate of 2.75 per hour to test the program (the pay should be 96.25). The code block below almost work:"
   ]
  },
  {
   "cell_type": "code",
   "execution_count": null,
   "id": "02fd1eb0-1284-44f2-bd11-1fd9270bf743",
   "metadata": {},
   "outputs": [],
   "source": [
    "hours = 35\n",
    "rate =             # You need to fill in something here\n",
    "\n",
    "# Some calculations here\n",
    "\n",
    "# Print the output here"
   ]
  },
  {
   "cell_type": "code",
   "execution_count": 3,
   "id": "22baa228",
   "metadata": {},
   "outputs": [
    {
     "name": "stdout",
     "output_type": "stream",
     "text": [
      "96.25\n"
     ]
    }
   ],
   "source": [
    "# answer\n",
    "\n",
    "hours = 35\n",
    "rate = 2.75\n",
    "\n",
    "pay=hours*rate\n",
    "print(pay)"
   ]
  },
  {
   "cell_type": "code",
   "execution_count": 2,
   "id": "c27f28e5",
   "metadata": {},
   "outputs": [
    {
     "name": "stdout",
     "output_type": "stream",
     "text": [
      "96.25\n"
     ]
    }
   ],
   "source": [
    "# an alternative is:\n",
    "\n",
    "print(hours * rate)\n"
   ]
  },
  {
   "cell_type": "markdown",
   "id": "42950a2c",
   "metadata": {},
   "source": [
    "#### Notes: Defining variables\n",
    "\n",
    "The alternative answer to exercise 2 is not preferred: it is good practice to define variables in Python! This is because that way, you can re-use the variable again and again.\\\n",
    "It also makes it easier to debug your code: you can easily see where the pay-variable is defined and if this could cause problems later on."
   ]
  },
  {
   "cell_type": "markdown",
   "id": "bbc973cf-9147-4040-a0cb-398f59138749",
   "metadata": {},
   "source": [
    "## Exercise 3\n",
    "\n",
    "Write a program to covert Celsius to Fahrenheit.\n",
    "Note: the conversion goes: multiply Celsius degree by 1.8 and add 32\n",
    "\n",
    "Try to write a line that automatically prints (without manually editing the texts): \n",
    "\"__ degree in Celsius is __ in Fahrenheit.\""
   ]
  },
  {
   "cell_type": "code",
   "execution_count": 5,
   "id": "e8458773-6bf5-4b72-92e8-c37f4a3d43a2",
   "metadata": {},
   "outputs": [
    {
     "name": "stdout",
     "output_type": "stream",
     "text": [
      "32 degree in Fahrenheit is 89.6\n"
     ]
    }
   ],
   "source": [
    "celsius = 32\n",
    "\n",
    "temp = (celsius * 1.8) + 32\n",
    "print(celsius, \"degree in Fahrenheit is\", temp)\n"
   ]
  },
  {
   "cell_type": "code",
   "execution_count": 6,
   "id": "1a83f28e",
   "metadata": {},
   "outputs": [
    {
     "name": "stdout",
     "output_type": "stream",
     "text": [
      "32 degree in Fahrenheit is 89.6\n"
     ]
    }
   ],
   "source": [
    "# the above code works, but we can make this more effective by writing a function\n",
    "\n",
    "def fahrenheit_maker(celsius):\n",
    "    temp = (celsius * 1.8) + 32\n",
    "    print(celsius, \"degree in Fahrenheit is\", temp)\n",
    "\n",
    "\n",
    "fahrenheit_maker(32)\n",
    "\n",
    "# the advantage of a function is that you can now use this code again and again for different degrees of celcius without having to adjust or copy the code\n",
    "# read more about functions here: https://www.w3schools.com/python/python_functions.asp\n",
    "# next week, we will also learn more about functions!"
   ]
  },
  {
   "cell_type": "markdown",
   "id": "3acc2381",
   "metadata": {},
   "source": [
    "##### Notes: Other ways of doing this that will teach us something!"
   ]
  },
  {
   "cell_type": "code",
   "execution_count": null,
   "id": "66354e54",
   "metadata": {},
   "outputs": [],
   "source": [
    "celsius = input(\"celsius?\")\n",
    "F = ((float(celsius)*1.8)+32.0)\n",
    "print(str(celsius) + \" degree in Celsius is \" + str(F) + \" in Fahrenheit\")\n",
    "\n",
    "# this is an interactive way"
   ]
  },
  {
   "cell_type": "code",
   "execution_count": 3,
   "id": "32989e2e",
   "metadata": {},
   "outputs": [
    {
     "name": "stdout",
     "output_type": "stream",
     "text": [
      "some sentence here, the number is 1\n",
      "some sentence here, the number is 1\n"
     ]
    }
   ],
   "source": [
    "# compare this way of printing\n",
    "print(\"some sentence here, the number is 1\")\n",
    "\n",
    "# to this way\n",
    "number = 1   #you can change this number and the sentence will be updated automatically\n",
    "print(f\"some sentence here, the number is {number}\")\n",
    "\n",
    "# using the f\" enables you to reprint this sentences for different numbers while only having to change the number (a variable defined above!)"
   ]
  }
 ],
 "metadata": {
  "kernelspec": {
   "display_name": "Python 3 (ipykernel)",
   "language": "python",
   "name": "python3"
  },
  "language_info": {
   "codemirror_mode": {
    "name": "ipython",
    "version": 3
   },
   "file_extension": ".py",
   "mimetype": "text/x-python",
   "name": "python",
   "nbconvert_exporter": "python",
   "pygments_lexer": "ipython3",
   "version": "3.9.6"
  }
 },
 "nbformat": 4,
 "nbformat_minor": 5
}
