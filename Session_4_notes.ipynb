{
 "cells": [
  {
   "cell_type": "code",
   "execution_count": 1,
   "id": "c2952808-e1dd-43b5-a672-301fcb084258",
   "metadata": {},
   "outputs": [
    {
     "data": {
      "text/plain": [
       "('mbox-short.txt', <http.client.HTTPMessage at 0x1055e81c0>)"
      ]
     },
     "execution_count": 1,
     "metadata": {},
     "output_type": "execute_result"
    }
   ],
   "source": [
    "# Codes that download the file to your drive\n",
    "from urllib.request import urlretrieve\n",
    "urlretrieve(\"https://raw.githubusercontent.com/justinchuntingho/PythonStudyGroup/main/romeo.txt\", \"romeo.txt\")\n",
    "urlretrieve(\"https://raw.githubusercontent.com/justinchuntingho/PythonStudyGroup/main/mbox-short.txt\", \"mbox-short.txt\")"
   ]
  },
  {
   "cell_type": "markdown",
   "id": "cd3273a1-a72a-4466-af8f-2e289a9cea18",
   "metadata": {},
   "source": [
    "## Exercise 1\n",
    "\n",
    "Below you have some working codes for the last session's exercise. Try to define a new function that extracts the score from the text and return it as floating point number. Print out the average at the end.\n",
    "\n",
    "Tips: Move some of the codes from the loop to the function definition, and then put the function in the loop."
   ]
  },
  {
   "cell_type": "code",
   "execution_count": null,
   "id": "a47896c6-2cf0-4526-bbd2-1a652140fbdb",
   "metadata": {},
   "outputs": [],
   "source": [
    "def get_number(x):\n",
    "    # Codes here\n",
    "    # More codes here\n",
    "    # Remember to return\n",
    "\n",
    "\n",
    "fh = open(\"mbox-short.txt\")\n",
    "count = 0\n",
    "total = 0\n",
    "\n",
    "for line in fh:\n",
    "    if line.startswith (\"X-DSPAM-Confidence:\"):\n",
    "        count= count+1\n",
    "        pos = line.find('0')\n",
    "        number = line[pos:]\n",
    "        number = float(number)\n",
    "        total = total + number\n",
    "        \n",
    "average = total/count\n",
    "print (average)"
   ]
  },
  {
   "cell_type": "code",
   "execution_count": 2,
   "id": "6cbf5d96",
   "metadata": {},
   "outputs": [
    {
     "name": "stdout",
     "output_type": "stream",
     "text": [
      "The average spam confidence score is 0.7507185185185187\n"
     ]
    },
    {
     "data": {
      "text/plain": [
       "0.7507185185185187"
      ]
     },
     "execution_count": 2,
     "metadata": {},
     "output_type": "execute_result"
    }
   ],
   "source": [
    "# potential answer that works\n",
    "\n",
    "def get_number(x):\n",
    "    fh = open(x)\n",
    "    count = 0\n",
    "    total = 0\n",
    "    for line in fh:\n",
    "        if line.startswith (\"X-DSPAM-Confidence:\"):\n",
    "            count= count+1\n",
    "            pos = line.find('0')\n",
    "            number = line[pos:]\n",
    "            number = float(number)\n",
    "            total = total + number\n",
    "        \n",
    "    average = total/count\n",
    "    print (\"The average spam confidence score is\", average)\n",
    "    return average\n",
    "\n",
    "get_number(\"mbox-short.txt\")"
   ]
  },
  {
   "cell_type": "code",
   "execution_count": 4,
   "id": "ed10cde7",
   "metadata": {},
   "outputs": [
    {
     "data": {
      "text/plain": [
       "0.8475"
      ]
     },
     "execution_count": 4,
     "metadata": {},
     "output_type": "execute_result"
    }
   ],
   "source": [
    "# another potential answer\n",
    "# but this one does not work; it gives a wrong answer and a different answer every time\n",
    "# this is because it sets the count and total to 0 every time again and overwrites anything that came before\n",
    "# by adding a lot of print() in this function, you can see that it just keeps giving the number and not calculate the average\n",
    "# in general, using print() a lot is a good idea: it shows you what your code is doing (wrong)!\n",
    "\n",
    "def get_number():\n",
    "    for line in fh:\n",
    "        if line.startswith (\"X-DSPAM-Confidence:\"):\n",
    "            count = 0\n",
    "            count= count+1\n",
    "            pos = line.find('0')\n",
    "            number = line[pos:]\n",
    "            number = float(number)\n",
    "            total = 0\n",
    "            total = total + number\n",
    "            average = total/count\n",
    "            return average\n",
    "\n",
    "fh = open(\"mbox-short.txt\")        \n",
    "get_number()\n"
   ]
  },
  {
   "cell_type": "code",
   "execution_count": 11,
   "id": "8053d687",
   "metadata": {},
   "outputs": [
    {
     "data": {
      "text/plain": [
       "0.7507185185185187"
      ]
     },
     "execution_count": 11,
     "metadata": {},
     "output_type": "execute_result"
    }
   ],
   "source": [
    "# this is the working version of the code block above\n",
    "\n",
    "fh = open(\"mbox-short.txt\")\n",
    "total = 0\n",
    "count = 0\n",
    "\n",
    "def get_number():\n",
    "    count = 0\n",
    "    total = 0\n",
    "    for line in fh:\n",
    "        if line.startswith (\"X-DSPAM-Confidence:\"):\n",
    "            count = count+1\n",
    "            pos = line.find('0')\n",
    "            number = line[pos:]\n",
    "            number = float(number)\n",
    "            total = total + number\n",
    "    average = total/count\n",
    "    return average\n",
    "        \n",
    "get_number()\n",
    "\n"
   ]
  },
  {
   "cell_type": "code",
   "execution_count": 12,
   "id": "3b1a0cbe",
   "metadata": {},
   "outputs": [
    {
     "data": {
      "text/plain": [
       "0.7507185185185187"
      ]
     },
     "execution_count": 12,
     "metadata": {},
     "output_type": "execute_result"
    }
   ],
   "source": [
    "# another potential solution\n",
    "\n",
    "def get_number(x):\n",
    "    scores = []\n",
    "    \n",
    "    for line in x:\n",
    "        if not line.startswith(\"X-DSPAM-Confidence:\"):\n",
    "            continue\n",
    "        find_colon = line.find(\":\")\n",
    "        num = line[find_colon + 1:].strip()\n",
    "        scores.append(float(num))\n",
    "    \n",
    "    average = sum(scores)/len(scores)\n",
    "    return average\n",
    "\n",
    "fh = open(\"mbox-short.txt\")\n",
    "get_number(fh)\n",
    "\n",
    "\n",
    "# note one thing about using loops in functions though:\n",
    "# using loops in functions is tricky because when you activate the function, you activate a lot of functions that are not very transparent\n",
    "# it is better to keep your functions as simple as possible: one  function, one job!\n",
    "# this makes code easier to debug\n",
    "# if you really have to do two things in one function, then make a function into a function"
   ]
  },
  {
   "cell_type": "code",
   "execution_count": 10,
   "id": "8233330f",
   "metadata": {},
   "outputs": [
    {
     "name": "stdout",
     "output_type": "stream",
     "text": [
      "0.7507185185185187\n"
     ]
    }
   ],
   "source": [
    "# justin's answer\n",
    "# note here: one function, one task. If you have multiple tasks that need to be done, create multiple functions\n",
    "\n",
    "def get_number(x):\n",
    "    pos = x.find(':')\n",
    "    number = x[pos+1:]\n",
    "    return float(number.strip())\n",
    "\n",
    "def get_average(total,count):\n",
    "    avg = total/count\n",
    "    return avg\n",
    "\n",
    "fh = open(\"mbox-short.txt\")\n",
    "count = 0\n",
    "total = 0\n",
    "\n",
    "for line in fh:\n",
    "    if line.startswith(\"X-DSPAM-Confidence:\"):\n",
    "        number = get_number(line)\n",
    "        total = total + number\n",
    "        count += 1\n",
    "        \n",
    "print(get_average(total, count))"
   ]
  },
  {
   "cell_type": "markdown",
   "id": "f9212faf-055f-4ece-81e9-5171925b9c57",
   "metadata": {},
   "source": [
    "## Exercise 2\n",
    "\n",
    "Open the file mbox-short.txt and read it line by line. When you find a line that starts with 'From ' like the following line:\n",
    "\n",
    "```From stephen.marquard@uct.ac.za Sat Jan  5 09:14:16 2008```\n",
    "\n",
    "Parse the From line using `split()` and append the email address to a list (second element of split line). Then print out the list and also a count at the end."
   ]
  },
  {
   "cell_type": "code",
   "execution_count": null,
   "id": "6e9696c6-144e-4707-a55b-2a0661d373e0",
   "metadata": {},
   "outputs": [],
   "source": [
    "fh = open(\"mbox-short.txt\")\n",
    "emails = list()\n",
    "\n",
    "# Your codes here\n",
    "\n"
   ]
  },
  {
   "cell_type": "code",
   "execution_count": 13,
   "id": "4c739a22",
   "metadata": {},
   "outputs": [
    {
     "name": "stdout",
     "output_type": "stream",
     "text": [
      "['stephen.marquard@uct.ac.za', 'louis@media.berkeley.edu', 'zqian@umich.edu', 'rjlowe@iupui.edu', 'zqian@umich.edu', 'rjlowe@iupui.edu', 'cwen@iupui.edu', 'cwen@iupui.edu', 'gsilver@umich.edu', 'gsilver@umich.edu', 'zqian@umich.edu', 'gsilver@umich.edu', 'wagnermr@iupui.edu', 'zqian@umich.edu', 'antranig@caret.cam.ac.uk', 'gopal.ramasammycook@gmail.com', 'david.horwitz@uct.ac.za', 'david.horwitz@uct.ac.za', 'david.horwitz@uct.ac.za', 'david.horwitz@uct.ac.za', 'stephen.marquard@uct.ac.za', 'louis@media.berkeley.edu', 'louis@media.berkeley.edu', 'ray@media.berkeley.edu', 'cwen@iupui.edu', 'cwen@iupui.edu', 'cwen@iupui.edu']\n"
     ]
    }
   ],
   "source": [
    "# one potential answer\n",
    "\n",
    "fh = open(\"mbox-short.txt\")\n",
    "emails = list()\n",
    "\n",
    "for line in fh:\n",
    "    mail_line = line.find(\"From:\")\n",
    "    if mail_line >=0:\n",
    "        email = line.split()\n",
    "        emails.append(email[1])\n",
    "\n",
    "print(emails)\n",
    "\n",
    "# for loop and conditional statements: how much you indent the block matters!\n",
    "# the mail_line part has one indent, so it associates with the for line in fh loop\n",
    "# the email = and email.append lines indent two, so they are associated with the if mail_line >= 0 part"
   ]
  },
  {
   "cell_type": "code",
   "execution_count": 15,
   "id": "249af5a8",
   "metadata": {},
   "outputs": [
    {
     "name": "stdout",
     "output_type": "stream",
     "text": [
      "['stephen.marquard@uct.ac.za'] Count of email addresses: 1\n",
      "['stephen.marquard@uct.ac.za'] Count of email addresses: 1\n",
      "['louis@media.berkeley.edu'] Count of email addresses: 1\n",
      "['louis@media.berkeley.edu'] Count of email addresses: 1\n",
      "['zqian@umich.edu'] Count of email addresses: 1\n",
      "['zqian@umich.edu'] Count of email addresses: 1\n",
      "['rjlowe@iupui.edu'] Count of email addresses: 1\n",
      "['rjlowe@iupui.edu'] Count of email addresses: 1\n",
      "['zqian@umich.edu'] Count of email addresses: 1\n",
      "['zqian@umich.edu'] Count of email addresses: 1\n",
      "['rjlowe@iupui.edu'] Count of email addresses: 1\n",
      "['rjlowe@iupui.edu'] Count of email addresses: 1\n",
      "['cwen@iupui.edu'] Count of email addresses: 1\n",
      "['cwen@iupui.edu'] Count of email addresses: 1\n",
      "['cwen@iupui.edu'] Count of email addresses: 1\n",
      "['cwen@iupui.edu'] Count of email addresses: 1\n",
      "['gsilver@umich.edu'] Count of email addresses: 1\n",
      "['gsilver@umich.edu'] Count of email addresses: 1\n",
      "['gsilver@umich.edu'] Count of email addresses: 1\n",
      "['gsilver@umich.edu'] Count of email addresses: 1\n",
      "['zqian@umich.edu'] Count of email addresses: 1\n",
      "['zqian@umich.edu'] Count of email addresses: 1\n",
      "['gsilver@umich.edu'] Count of email addresses: 1\n",
      "['gsilver@umich.edu'] Count of email addresses: 1\n",
      "['wagnermr@iupui.edu'] Count of email addresses: 1\n",
      "['wagnermr@iupui.edu'] Count of email addresses: 1\n",
      "['zqian@umich.edu'] Count of email addresses: 1\n",
      "['zqian@umich.edu'] Count of email addresses: 1\n",
      "['antranig@caret.cam.ac.uk'] Count of email addresses: 1\n",
      "['antranig@caret.cam.ac.uk'] Count of email addresses: 1\n",
      "['gopal.ramasammycook@gmail.com'] Count of email addresses: 1\n",
      "['gopal.ramasammycook@gmail.com'] Count of email addresses: 1\n",
      "['david.horwitz@uct.ac.za'] Count of email addresses: 1\n",
      "['david.horwitz@uct.ac.za'] Count of email addresses: 1\n",
      "['david.horwitz@uct.ac.za'] Count of email addresses: 1\n",
      "['david.horwitz@uct.ac.za'] Count of email addresses: 1\n",
      "['david.horwitz@uct.ac.za'] Count of email addresses: 1\n",
      "['david.horwitz@uct.ac.za'] Count of email addresses: 1\n",
      "['david.horwitz@uct.ac.za'] Count of email addresses: 1\n",
      "['david.horwitz@uct.ac.za'] Count of email addresses: 1\n",
      "['stephen.marquard@uct.ac.za'] Count of email addresses: 1\n",
      "['stephen.marquard@uct.ac.za'] Count of email addresses: 1\n",
      "['louis@media.berkeley.edu'] Count of email addresses: 1\n",
      "['louis@media.berkeley.edu'] Count of email addresses: 1\n",
      "['louis@media.berkeley.edu'] Count of email addresses: 1\n",
      "['louis@media.berkeley.edu'] Count of email addresses: 1\n",
      "['ray@media.berkeley.edu'] Count of email addresses: 1\n",
      "['ray@media.berkeley.edu'] Count of email addresses: 1\n",
      "['cwen@iupui.edu'] Count of email addresses: 1\n",
      "['cwen@iupui.edu'] Count of email addresses: 1\n",
      "['cwen@iupui.edu'] Count of email addresses: 1\n",
      "['cwen@iupui.edu'] Count of email addresses: 1\n",
      "['cwen@iupui.edu'] Count of email addresses: 1\n",
      "['cwen@iupui.edu'] Count of email addresses: 1\n"
     ]
    }
   ],
   "source": [
    "# another potential answer\n",
    "\n",
    "fh = open(\"mbox-short.txt\")\n",
    "for line in fh:\n",
    "    # use find() to find the index of \"from\" \n",
    "    mail = line.find(\"From\")\n",
    "    # check if the line contain \"from\" \n",
    "    if mail != -1:\n",
    "        parts = line.split(' ')\n",
    "        address = parts[1]\n",
    "        address = address.rstrip().lstrip()\n",
    "        emails = list()\n",
    "        emails.append(address)\n",
    "        print(emails,\"Count of email addresses:\", len(emails))\n",
    "\n",
    "# this code does not give us what we want\n",
    "# the emails = list() line should be outside of the loop (see block below for corredcted code)"
   ]
  },
  {
   "cell_type": "code",
   "execution_count": 18,
   "id": "ef1945c2",
   "metadata": {},
   "outputs": [
    {
     "name": "stdout",
     "output_type": "stream",
     "text": [
      "['stephen.marquard@uct.ac.za', 'stephen.marquard@uct.ac.za', 'louis@media.berkeley.edu', 'louis@media.berkeley.edu', 'zqian@umich.edu', 'zqian@umich.edu', 'rjlowe@iupui.edu', 'rjlowe@iupui.edu', 'zqian@umich.edu', 'zqian@umich.edu', 'rjlowe@iupui.edu', 'rjlowe@iupui.edu', 'cwen@iupui.edu', 'cwen@iupui.edu', 'cwen@iupui.edu', 'cwen@iupui.edu', 'gsilver@umich.edu', 'gsilver@umich.edu', 'gsilver@umich.edu', 'gsilver@umich.edu', 'zqian@umich.edu', 'zqian@umich.edu', 'gsilver@umich.edu', 'gsilver@umich.edu', 'wagnermr@iupui.edu', 'wagnermr@iupui.edu', 'zqian@umich.edu', 'zqian@umich.edu', 'antranig@caret.cam.ac.uk', 'antranig@caret.cam.ac.uk', 'gopal.ramasammycook@gmail.com', 'gopal.ramasammycook@gmail.com', 'david.horwitz@uct.ac.za', 'david.horwitz@uct.ac.za', 'david.horwitz@uct.ac.za', 'david.horwitz@uct.ac.za', 'david.horwitz@uct.ac.za', 'david.horwitz@uct.ac.za', 'david.horwitz@uct.ac.za', 'david.horwitz@uct.ac.za', 'stephen.marquard@uct.ac.za', 'stephen.marquard@uct.ac.za', 'louis@media.berkeley.edu', 'louis@media.berkeley.edu', 'louis@media.berkeley.edu', 'louis@media.berkeley.edu', 'ray@media.berkeley.edu', 'ray@media.berkeley.edu', 'cwen@iupui.edu', 'cwen@iupui.edu', 'cwen@iupui.edu', 'cwen@iupui.edu', 'cwen@iupui.edu', 'cwen@iupui.edu'] Count of email addresses: 54\n"
     ]
    }
   ],
   "source": [
    "# corrected version of the code above\n",
    "\n",
    "fh = open(\"mbox-short.txt\")\n",
    "emails = list()\n",
    "\n",
    "for line in fh:\n",
    "    # use find() to find the index of \"from\" \n",
    "    mail = line.find(\"From\")\n",
    "    # check if the line contain \"from\" \n",
    "    if mail != -1:\n",
    "        parts = line.split(' ')\n",
    "        address = parts[1]\n",
    "        address = address.rstrip().lstrip()\n",
    "       # emails = list()  # this one should go up!\n",
    "        emails.append(address)\n",
    "print(emails,\"Count of email addresses:\", len(emails))  # this one should have no indents!"
   ]
  },
  {
   "cell_type": "code",
   "execution_count": 19,
   "id": "48a789b3",
   "metadata": {},
   "outputs": [
    {
     "name": "stdout",
     "output_type": "stream",
     "text": [
      "['stephen.marquard@uct.ac.za', 'louis@media.berkeley.edu', 'zqian@umich.edu', 'rjlowe@iupui.edu', 'zqian@umich.edu', 'rjlowe@iupui.edu', 'cwen@iupui.edu', 'cwen@iupui.edu', 'gsilver@umich.edu', 'gsilver@umich.edu', 'zqian@umich.edu', 'gsilver@umich.edu', 'wagnermr@iupui.edu', 'zqian@umich.edu', 'antranig@caret.cam.ac.uk', 'gopal.ramasammycook@gmail.com', 'david.horwitz@uct.ac.za', 'david.horwitz@uct.ac.za', 'david.horwitz@uct.ac.za', 'david.horwitz@uct.ac.za', 'stephen.marquard@uct.ac.za', 'louis@media.berkeley.edu', 'louis@media.berkeley.edu', 'ray@media.berkeley.edu', 'cwen@iupui.edu', 'cwen@iupui.edu', 'cwen@iupui.edu']\n"
     ]
    }
   ],
   "source": [
    "# another potential solution that works nicely\n",
    "\n",
    "fh = open(\"mbox-short.txt\")\n",
    "emails = list()\n",
    "\n",
    "for line in fh:\n",
    "    mail_line = line.find(\"From:\")\n",
    "    if mail_line >=0:\n",
    "        email = line.split()\n",
    "        emails.append(email[1])\n",
    "\n",
    "print(emails)"
   ]
  },
  {
   "cell_type": "markdown",
   "id": "0245a421-f9d2-4581-a432-c8e2924c6705",
   "metadata": {},
   "source": [
    "## Exercise 3\n",
    "\n",
    "Open the file romeo.txt and read it line by line. For each line, split the line into a list of words using the split() method. The program should build a list of words. For each word on each line check to see if the word is already in the list and if not append it to the list. When the program completes, sort and print the resulting words in python sort() order as shown in the desired output.\n",
    "\n",
    "The output should look like this:\n",
    "```\n",
    "['Arise', 'But', 'It', 'Juliet', 'Who', 'already', 'and', 'breaks', 'east', 'envious', 'fair', 'grief', 'is', 'kill', 'light', 'moon', 'pale', 'sick', 'soft', 'sun', 'the', 'through', 'what', 'window', 'with', 'yonder']\n",
    "```"
   ]
  },
  {
   "cell_type": "code",
   "execution_count": null,
   "id": "79ded118-a4bf-4525-bcc6-43da726e6a58",
   "metadata": {},
   "outputs": [],
   "source": [
    "fh = open(\"romeo.txt\")\n",
    "\n",
    "\n",
    "for line in fh:\n",
    "    # Change the following to what you need to do\n",
    "    print(line)"
   ]
  },
  {
   "cell_type": "code",
   "execution_count": 20,
   "id": "75639b97",
   "metadata": {},
   "outputs": [
    {
     "name": "stdout",
     "output_type": "stream",
     "text": [
      "['Arise', 'But', 'It', 'Juliet', 'Who', 'already', 'and', 'breaks', 'east', 'envious', 'fair', 'grief', 'is', 'kill', 'light', 'moon', 'pale', 'sick', 'soft', 'sun', 'the', 'through', 'what', 'window', 'with', 'yonder']\n"
     ]
    }
   ],
   "source": [
    "# one potential solution\n",
    "# you first need to create a lust outside of the loop\n",
    "# then create a loop within a loop\n",
    "# this exercise is complicated!\n",
    "\n",
    "fh = open(\"romeo.txt\")\n",
    "wordlist = list()\n",
    "for line in fh:\n",
    "    words = line.split()\n",
    "    for j in words:\n",
    "        if j not in wordlist:\n",
    "            wordlist.append(j)\n",
    "            wordlist.sort() # note that this part can also be removed from the loop (so, without indents). In that case, you would sort everything only one time - so that is actually preferred because it saves computing power\n",
    "print(wordlist)\n"
   ]
  },
  {
   "cell_type": "code",
   "execution_count": 21,
   "id": "d7d2a9ff",
   "metadata": {},
   "outputs": [
    {
     "name": "stdout",
     "output_type": "stream",
     "text": [
      "['Arise', 'But', 'It', 'Juliet', 'Who', 'already', 'and', 'breaks', 'east', 'envious', 'fair', 'grief', 'is', 'kill', 'light', 'moon', 'pale', 'sick', 'soft', 'sun', 'the', 'through', 'what', 'window', 'with', 'yonder']\n"
     ]
    }
   ],
   "source": [
    "# another potential solution - works just as well as the block above\n",
    "\n",
    "fh = open(\"romeo.txt\")\n",
    "words = []\n",
    "\n",
    "for line in fh:\n",
    "    split_line = line.split()\n",
    "    for word in split_line:\n",
    "        if word in words:\n",
    "            continue\n",
    "        else:\n",
    "            words.append(word)\n",
    "    words.sort()\n",
    "\n",
    "print(words)"
   ]
  }
 ],
 "metadata": {
  "kernelspec": {
   "display_name": "Python 3 (ipykernel)",
   "language": "python",
   "name": "python3"
  },
  "language_info": {
   "codemirror_mode": {
    "name": "ipython",
    "version": 3
   },
   "file_extension": ".py",
   "mimetype": "text/x-python",
   "name": "python",
   "nbconvert_exporter": "python",
   "pygments_lexer": "ipython3",
   "version": "3.9.6"
  }
 },
 "nbformat": 4,
 "nbformat_minor": 5
}
