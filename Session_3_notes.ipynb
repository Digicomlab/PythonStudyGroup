{
 "cells": [
  {
   "cell_type": "markdown",
   "id": "82cff344-11a1-4484-a27c-7ae3148f4deb",
   "metadata": {},
   "source": [
    "## Exercise 1\n",
    "\n",
    "Write code using find() and string slicing to extract the number at the end of the line below. Convert the extracted value to a floating point number and print it out."
   ]
  },
  {
   "cell_type": "code",
   "execution_count": null,
   "id": "f3adbeed",
   "metadata": {},
   "outputs": [],
   "source": [
    "text = \"X-DSPAM-Confidence:    0.8475\"\n",
    "\n",
    "# Find the index of the number\n",
    "\n",
    "# Use [] to extract only the number, note [10:] will extract from 10 to the end of the string\n",
    "\n",
    "# Turn it into float type"
   ]
  },
  {
   "cell_type": "code",
   "execution_count": 10,
   "id": "8719d4f1-feb7-40df-81e2-df69ad0f3439",
   "metadata": {},
   "outputs": [
    {
     "name": "stdout",
     "output_type": "stream",
     "text": [
      "0.8475\n",
      "0.8475\n"
     ]
    }
   ],
   "source": [
    "# potential answer\n",
    "\n",
    "text = \"X-DSPAM-Confidence:    0.8475\"\n",
    "\n",
    "# Find the index of the number\n",
    "\n",
    "# Use [] to extract only the number, note [10:] will extract from 10 to the end of the string\n",
    "\n",
    "# Turn it into float type\n",
    "\n",
    "number = text[23:]\n",
    "print(number)\n",
    "\n",
    "num_float = float(number)\n",
    "print(num_float)\n",
    "\n",
    "# downside here is that the number may have more or fewer decimals and then this code will not work"
   ]
  },
  {
   "cell_type": "code",
   "execution_count": null,
   "id": "49e1493a",
   "metadata": {},
   "outputs": [],
   "source": [
    "# potential answer\n",
    "\n",
    "\n",
    "text = \"X-DSPAM-Confidence:    0.8475\"\n",
    "\n",
    "# Find the index of the number\n",
    "zero_pos = text.find(\"0\")\n",
    "\n",
    "# Use [] to extract only the number, note [10:] will extract from 10 to the end of the string\n",
    "num = text[23:]\n",
    "\n",
    "# Turn it into float type\n",
    "num = float(num)\n",
    "\n",
    "print(num)\n",
    "\n",
    "# a catch here is that it only works for numbers starting with 0. If, in the entire document, there are numbers starting with a different number, this will not work.\n"
   ]
  },
  {
   "cell_type": "markdown",
   "id": "fec215ad-6cd6-4c4f-ac3a-409cea0e2492",
   "metadata": {},
   "source": [
    "## Exercise 2\n",
    "\n",
    "Write a program that opens and reads through the file `mbox-short.txt`, looking for lines of the form:\n",
    "\n",
    "`X-DSPAM-Confidence:    0.8475`\n",
    "\n",
    "Count these lines and extract the floating point values from each of the lines and compute the average of those values.\n",
    "\n",
    "*Notes about files and working directory: By default, when you opens Jupyter Lab (Python), it will pick a folder in your computer as the working directory. Working directory is a particular directory (folder) within which you are assumed to be working with. To check your working directory you could use `os.getcwd()`. There are normally two ways to read in a file: 1. put the file in the working directory and read using the file name; or 2. use the path to the file.*"
   ]
  },
  {
   "cell_type": "code",
   "execution_count": 1,
   "id": "0177ceb0-b530-4645-9eb2-c79456caba84",
   "metadata": {},
   "outputs": [
    {
     "data": {
      "text/plain": [
       "'/Users/marthe/Library/CloudStorage/OneDrive-UvA/Digicomlab/General/PythonStudyGroup'"
      ]
     },
     "execution_count": 1,
     "metadata": {},
     "output_type": "execute_result"
    }
   ],
   "source": [
    "# Just for your reference, this is how you check your current working directory\n",
    "\n",
    "import os\n",
    "os.getcwd()"
   ]
  },
  {
   "cell_type": "code",
   "execution_count": 11,
   "id": "5e79a44f-80cd-40d2-a5ff-41fe484a5470",
   "metadata": {},
   "outputs": [
    {
     "data": {
      "text/plain": [
       "('mbox-short.txt', <http.client.HTTPMessage at 0x105c244c0>)"
      ]
     },
     "execution_count": 11,
     "metadata": {},
     "output_type": "execute_result"
    }
   ],
   "source": [
    "# Codes that download the file to your drive\n",
    "from urllib.request import urlretrieve\n",
    "urlretrieve(\"https://raw.githubusercontent.com/justinchuntingho/PythonStudyGroup/main/mbox-short.txt\", \"mbox-short.txt\")"
   ]
  },
  {
   "cell_type": "code",
   "execution_count": null,
   "id": "7f37a036",
   "metadata": {},
   "outputs": [],
   "source": [
    "# Here's some sample code you can use.\n",
    "fh = open(\"mbox-short.txt\")\n",
    "for line in fh:\n",
    "    if not line.startswith(\"X-DSPAM-Confidence:\"):\n",
    "        continue\n",
    "    print(line)"
   ]
  },
  {
   "cell_type": "code",
   "execution_count": 40,
   "id": "6d31c727",
   "metadata": {},
   "outputs": [
    {
     "name": "stdout",
     "output_type": "stream",
     "text": [
      "0.8475\n"
     ]
    }
   ],
   "source": [
    "# answer\n",
    "\n",
    "fh = open(\"mbox-short.txt\")\n",
    "count = 0\n",
    "total = 0\n",
    "\n",
    "for line in fh:\n",
    "    if line.startswith (\"X-DSPAM-Confidence:\"):\n",
    "        count= count+1\n",
    "        pos = line.find(':')\n",
    "        number = text[pos+4:]\n",
    "        number = float(number)\n",
    "        total = total + number\n",
    "\n",
    "average = total/count\n",
    "print (average)\n",
    "\n",
    "# this code is relatively simple - but it works!"
   ]
  },
  {
   "cell_type": "code",
   "execution_count": 42,
   "id": "a1e9ff93-0fbb-422f-ae7d-2c2596a8b455",
   "metadata": {},
   "outputs": [
    {
     "name": "stdout",
     "output_type": "stream",
     "text": [
      "0.7507185185185186\n"
     ]
    }
   ],
   "source": [
    "# Another potential answer\n",
    "\n",
    "import statistics\n",
    "\n",
    "float_list = []\n",
    "\n",
    "fh = open(\"mbox-short.txt\")\n",
    "for line in fh:\n",
    "    if not line.startswith(\"X-DSPAM-Confidence:\"):\n",
    "        continue\n",
    "    else:\n",
    "        number = line[21:]\n",
    "        num_float = float(number)\n",
    "        #print(num_float)\n",
    "        float_list.append(num_float)\n",
    "\n",
    "mean = statistics.fmean(float_list) \n",
    "print(mean)\n",
    "\n",
    "# this code uses the statistics package\n",
    "# because using this package, we need the first line (import statistics). In this line, you import the code of this package into the memory of your computer\n",
    "# it works this way because having all code of all packages available in your laptop requires too much memory\n",
    "# note that there is bug somewhere here, because it gives a different result than the code above!\n"
   ]
  },
  {
   "cell_type": "markdown",
   "id": "950ea23c-5dea-4978-a2f4-25aad15a6e88",
   "metadata": {},
   "source": [
    "## Exercise 3\n",
    "\n",
    "Write a program to extract all the email addresses from [here](https://ascor.uva.nl/staff/faculty.html). You will need to use `find()` to locate if the line contains `mailto:`, which is a html code for email address. Also remember python will return -1 if the string you specify cannot be found. Finally, there are multiple ways to extract only the email, the easiest is probably using multiple combinations of `find()` and `[ ]`.\n",
    "\n"
   ]
  },
  {
   "cell_type": "code",
   "execution_count": 17,
   "id": "46e9e7ac-9152-47ca-9fd5-e57ddd79ad42",
   "metadata": {},
   "outputs": [
    {
     "data": {
      "text/plain": [
       "('faculty.html', <http.client.HTTPMessage at 0x105cb04c0>)"
      ]
     },
     "execution_count": 17,
     "metadata": {},
     "output_type": "execute_result"
    }
   ],
   "source": [
    "# Codes to download the html\n",
    "urlretrieve(\"https://ascor.uva.nl/staff/faculty.html\", \"faculty.html\")"
   ]
  },
  {
   "cell_type": "code",
   "execution_count": null,
   "id": "275670b9",
   "metadata": {},
   "outputs": [],
   "source": [
    "# Here's some sample codes that print the html line by line\n",
    "# Replace it with codes that print only the email\n",
    "fh = open(\"faculty.html\")\n",
    "for line in fh:\n",
    "   mail = line.find(\"mailto:\")"
   ]
  },
  {
   "cell_type": "code",
   "execution_count": 47,
   "id": "72b9854c",
   "metadata": {},
   "outputs": [
    {
     "name": "stdout",
     "output_type": "stream",
     "text": [
      "mailto:c.f.burgers@uva.nl\n",
      "mailto:G.L.A.vanderMeer@uva.nl\n",
      "mailto:T.B.Araujo@uva.nl\n",
      "mailto:A.P.V.Berbers@uva.nl\n",
      "mailto:M.Boukes@uva.nl\n",
      "mailto:b.c.brugman@uva.nl\n",
      "mailto:h.cools@uva.nl\n",
      "mailto:c.w.vaneck@uva.nl\n",
      "mailto:o.eisele@uva.nl\n",
      "mailto:l.vandenheijkant@uva.nl\n",
      "mailto:S.H.J.Jacobs@uva.nl\n",
      "mailto:J.G.F.Jonkman@uva.nl\n",
      "mailto:A.C.Kroon@uva.nl\n",
      "mailto:s.m.marschlich@uva.nl\n",
      "mailto:n.c.deschipper@uva.nl\n",
      "mailto:P.Verhoeven@uva.nl\n",
      "mailto:A.Wonneberger@uva.nl\n",
      "mailto:H.A.M.Voorveld@uva.nl\n",
      "mailto:M.C.Alblas@uva.nl\n",
      "mailto:Z.M.C.vanBerlo@uva.nl\n",
      "mailto:p.l.breves@uva.nl\n",
      "mailto:M.J.vanderGoot@uva.nl\n",
      "mailto:d.blancoherrero@uva.nl\n",
      "mailto:c.ischen@uva.nl\n",
      "mailto:d.s.kolesnyk@uva.nl\n",
      "mailto:l.g.g.vanlent@uva.nl\n",
      "mailto:a.j.linn@uva.nl\n",
      "mailto:M.H.C.Meijers@uva.nl\n",
      "mailto:C.S.Meppelink@uva.nl\n",
      "mailto:S.Mollen@uva.nl\n",
      "mailto:m.h.nguyen@uva.nl\n",
      "mailto:G.vanNoort@uva.nl\n",
      "mailto:E.Peelen@uva.nl\n",
      "mailto:a.pfeuffer@uva.nl\n",
      "mailto:S.J.H.M.vandenPutte@uva.nl\n",
      "mailto:k.qin@uva.nl\n",
      "mailto:E.A.vanReijmersdal@uva.nl\n",
      "mailto:c.scholz@uva.nl\n",
      "mailto:B.C.Schouten@uva.nl\n",
      "mailto:E.S.Smit@uva.nl\n",
      "mailto:E.G.Smit@uva.nl\n",
      "mailto:a.d.starke@uva.nl\n",
      "mailto:J.Strycharz@uva.nl\n",
      "mailto:l.s.teunissen@uva.nl\n",
      "mailto:a.l.vos@uva.nl\n",
      "mailto:J.C.M.vanWeert@uva.nl\n",
      "mailto:n.g.yilmaz@uva.nl\n",
      "mailto:S.M.Zwier@uva.nl\n",
      "mailto:L.Bos@uva.nl\n",
      "mailto:C.H.deVreese@uva.nl\n",
      "mailto:R.Azrout@uva.nl\n",
      "mailto:B.N.Bakker@uva.nl\n",
      "mailto:k.a.e.beckers@uva.nl\n",
      "mailto:T.Dobber@uva.nl\n",
      "mailto:M.H.vanEgmond@uva.nl\n",
      "mailto:p.f.a.vanerkel@uva.nl\n",
      "mailto:K.Gattermann@uva.nl\n",
      "mailto:e.s.vandergoot@uva.nl\n",
      "mailto:M.Hameleers@uva.nl\n",
      "mailto:j.c.ho@uva.nl\n",
      "mailto:e.f.m.vandenhoogen@uva.nl\n",
      "mailto:f.r.hopp@uva.nl\n",
      "mailto:m.f.hove@uva.nl\n",
      "mailto:z.lin@uva.nl\n",
      "mailto:f.loecherbach@uva.nl\n",
      "mailto:J.E.Moller1@uva.nl\n",
      "mailto:s.v.morosoli@uva.nl\n",
      "mailto:A.Nai@uva.nl\n",
      "mailto:c.m.oschatz@uva.nl\n",
      "mailto:A.R.T.Schuck@uva.nl\n",
      "mailto:c.d.r.o.starke@uva.nl\n",
      "mailto:s.b.stolwijk@uva.nl\n",
      "mailto:e.strikovic@uva.nl\n",
      "mailto:K.deSwert@uva.nl\n",
      "mailto:d.c.trilling@uva.nl\n",
      "mailto:m.tulin@uva.nl\n",
      "mailto:f.a.votta@uva.nl\n",
      "mailto:J.Peter@uva.nl\n",
      "mailto:P.M.Valkenburg@uva.nl\n",
      "mailto:S.E.Baumgartner@uva.nl\n",
      "mailto:a.j.d.bijdevaate@uva.nl\n",
      "mailto:c.j.billedo@uva.nl\n",
      "mailto:i.i.vandriel@uva.nl\n",
      "mailto:F.J.M.Huysmans@uva.nl\n",
      "mailto:l.h.c.janssen@uva.nl\n",
      "mailto:s.khanna@uva.nl\n",
      "mailto:J.S.Lemmens@uva.nl\n",
      "mailto:a.m.moller@uva.nl\n",
      "mailto:j.m.f.vanoosten@uva.nl\n",
      "mailto:J.Piotrowski@uva.nl\n",
      "mailto:f.m.schneider@uva.nl\n",
      "mailto:t.siebers@uva.nl\n",
      "mailto:C.L.vanStraten@uva.nl\n",
      "mailto:s.r.sumter@uva.nl\n",
      "mailto:H.Sungur@uva.nl\n",
      "mailto:A.vanderWal@uva.nl\n",
      "mailto:d.s.w.wirz@uva.nl\n",
      "mailto:l.n.wolfers@uva.nl\n"
     ]
    }
   ],
   "source": [
    "# Justin's answer\n",
    "\n",
    "fh = open(\"faculty.html\")\n",
    "for line in fh:\n",
    "   mail = line.find(\"mailto:\")\n",
    "   # print(mail) # we see many -1 but also sometime 53. That means that somewhere, there are emails here!\n",
    "   if mail >= 0:\n",
    "      #print(line[mail:])\n",
    "      ending = line.find('\">') #use the single colon to tell python how to deal with \"\"\n",
    "      print(line[mail:ending])\n",
    "\n",
    "\n",
    "\n",
    "# what is done in this block is essentially web scraping: gathering information from a webpage and doing something with it. \n",
    "# We could now store these email addresses in a file and send some spam to our colleagues ;)"
   ]
  }
 ],
 "metadata": {
  "kernelspec": {
   "display_name": "Python 3 (ipykernel)",
   "language": "python",
   "name": "python3"
  },
  "language_info": {
   "codemirror_mode": {
    "name": "ipython",
    "version": 3
   },
   "file_extension": ".py",
   "mimetype": "text/x-python",
   "name": "python",
   "nbconvert_exporter": "python",
   "pygments_lexer": "ipython3",
   "version": "3.9.6"
  }
 },
 "nbformat": 4,
 "nbformat_minor": 5
}
