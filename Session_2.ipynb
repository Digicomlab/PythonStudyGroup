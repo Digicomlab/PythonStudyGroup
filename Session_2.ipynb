{
 "cells": [
  {
   "cell_type": "markdown",
   "id": "65c4863e-a2c0-4cb8-8a3a-26a74e020ecf",
   "metadata": {
    "tags": []
   },
   "source": [
    "## Exercise 1\n",
    "\n",
    "Write a loop to check if the following numbers are even or odd."
   ]
  },
  {
   "cell_type": "code",
   "execution_count": null,
   "id": "715a476a-a59a-4a89-bf1b-207bec5477fd",
   "metadata": {},
   "outputs": [],
   "source": [
    "numbers = [1, 4, 7, 8, 9, 20, 1498]\n",
    "\n",
    "for number in numbers:\n",
    "    \n",
    "    # some conditional statements here\n",
    "    \n",
    "    # print \"even\" or \"odd\""
   ]
  },
  {
   "cell_type": "markdown",
   "id": "e12fd8d3-9463-46d3-9c85-25e8eea94892",
   "metadata": {},
   "source": [
    "## Exercise 2\n",
    "\n",
    "Write a loop to count how may zeros are there in the list.\n",
    "\n",
    "Tips: Define a counter, add 1 every time when you find a match."
   ]
  },
  {
   "cell_type": "code",
   "execution_count": null,
   "id": "f3192da1-fa64-4c9c-ac68-51c77f00386e",
   "metadata": {},
   "outputs": [],
   "source": [
    "numbers = [3, 0, 6, 2, 4, 7, 0, 0, 3, 0, 6, 2, 4, 7, 7, 0, 5, 3, 4, 2, 0, 2, 1, 3, 9, 4, 2, 4, 3, 1, 4, 0, 6, 2, 4]\n",
    "\n",
    "counter = 0\n",
    "\n",
    "for number in numbers:\n",
    "    \n",
    "    # some conditional statements here\n",
    "    \n",
    "    # add 1 to the counter\n",
    "    \n",
    "# Remember to print at the end"
   ]
  },
  {
   "cell_type": "markdown",
   "id": "ebee4610-b33e-4e1a-bbd4-96ca27afcdc2",
   "metadata": {},
   "source": [
    "## Exercise 3\n",
    "\n",
    "Write a programme to return the grade for score between 0.0 and 1.0. If the score is out of range, print an error. If the score is between 0.0 and 1.0, print a grade using the following table:\n",
    "\n",
    "Score |Grade\n",
    "--- | ---\n",
    "above 0.9 |A\n",
    "above 0.8 |B\n",
    "above 0.7 |C\n",
    "above 0.6 |D\n",
    "0.6 and below|F"
   ]
  },
  {
   "cell_type": "code",
   "execution_count": null,
   "id": "5db570d8-0367-40fe-a4d5-f7d248a68da1",
   "metadata": {},
   "outputs": [],
   "source": [
    "scores = [0.72, 0.85, 2, \"0.91\", \"no idea\", \"0.6\", \"I forgot\"]\n",
    "\n",
    "for score in scores:\n",
    "    \n",
    "    # some conditional statements here\n",
    "    \n",
    "    # print out the grade or the error"
   ]
  },
  {
   "cell_type": "markdown",
   "id": "0425490f-64dd-40b4-b20a-200d6a1322c5",
   "metadata": {},
   "source": [
    "Note: The correct output should be: C, B, Error, A, Error, F, Error"
   ]
  },
  {
   "cell_type": "markdown",
   "id": "5371c7e9-7835-49dc-8561-4bbfebc9f3d5",
   "metadata": {},
   "source": [
    "## Challenge\n",
    "\n",
    "If you have already finished everything and you like a good challenge, here's an EXTREMELY hard one for you.\n",
    "\n",
    "Write a programme to find all prime numbers between 2 and 10.\n",
    "\n",
    "Tips: `range(2, 10)` will give you a number sequence from 2 to 10."
   ]
  }
 ],
 "metadata": {
  "kernelspec": {
   "display_name": "Python 3 (ipykernel)",
   "language": "python",
   "name": "python3"
  },
  "language_info": {
   "codemirror_mode": {
    "name": "ipython",
    "version": 3
   },
   "file_extension": ".py",
   "mimetype": "text/x-python",
   "name": "python",
   "nbconvert_exporter": "python",
   "pygments_lexer": "ipython3",
   "version": "3.9.18"
  }
 },
 "nbformat": 4,
 "nbformat_minor": 5
}
