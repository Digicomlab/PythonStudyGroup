{
 "cells": [
  {
   "cell_type": "code",
   "execution_count": null,
   "id": "e74ffaa6-fd42-4004-8cb2-82abb9d70405",
   "metadata": {},
   "outputs": [],
   "source": [
    "from urllib.request import urlretrieve\n",
    "urlretrieve(\"https://raw.githubusercontent.com/uva-cw-ccs1/2324s2/main/week5/Tutorial/engagement_weekly.csv\", \"engagement_weekly.csv\")\n",
    "urlretrieve(\"https://raw.githubusercontent.com/uva-cw-ccs1/2324s2/main/week5/Tutorial/pages-info.csv\", \"pages-info.csv\")"
   ]
  },
  {
   "cell_type": "markdown",
   "id": "16a406b2-85a6-4d93-9cae-41115864c652",
   "metadata": {},
   "source": [
    "## Dataset\n",
    "\n",
    "This week we will work with a dataset on U.S. partisan news pages on Facebook. This data was collected and analyzed by Silverman et al. (2017) for this article published on BuzzFeed [Inside The Partisan Fight For Your News Feed](https://www.buzzfeednews.com/article/craigsilverman/inside-the-partisan-fight-for-your-news-feed). The followings are some description about the files:\n",
    "- `pages-info.csv` - dataset about the identified Facebook pages. It contains the following information:\n",
    "    - page_name:  name of the page on Facebook\n",
    "    - about: description of the page\n",
    "    - fan_count: number of fans\n",
    "    - talking_about_count: number of people sharing stories about the page\n",
    "    - website: name of the website related to the page\n",
    "    - page_id: ID of the Facebook page\n",
    "    - year: year when the page was created\n",
    "    - left_leaning: political left leaning of the page (takes value 1 for pages identified as left leaning and 0 for others)\n",
    "    - right_leaning: political right leaning of the page (takes value 1 for pages identified as right leaning and 0 for others)\n",
    "- `engagement_weekly.csv` - dataset about engagement with the identified pages in the last week before 2016 US presidential electiosn. It contains the following information:\n",
    "    - page_id: ID of the Facebook page\n",
    "    - status_published: the period for which engagement was measures (in this case, it is the first week of November 2016 for all pages).\n",
    "    - total_engagement: total number of engagement with the page in the week\n",
    "    - num_reactions: total number of reactions posts by the page recieved in the week (including all possible Facebook reactions)\n",
    "    - num_comments: total number of comments posts by the page recieved in the week\n",
    "    - num_shares: total number of times posts by the page have been shared in the week\n",
    "    - num_likes: total number of likes posts by the page recieved in the week\n",
    "    - num_loves: total number of 'love' reactions posts by the page recieved in the week\n",
    "    - num_wows: total number of 'wow' reactions posts by the page recieved in the week\n",
    "    - num_hahas: total number of 'haha' reactions posts by the page recieved in the week\n",
    "    - num_sads: total number of 'sad' reactions posts by the page recieved in the week\n",
    "    - num_angrys: total number of 'angry' reactions posts by the page recieved in the week\n",
    "    - post_count: total numer of posts posted in the week\n",
    "    \n",
    "## Exercise 1\n",
    "### Read and explore the dataset\n",
    "- Load the dataset using pandas.\n",
    "- Explore the datasets: print first few rows using the method `df.head()`, check all column types using attribute `df.dtypes`, and check for missing values using `df.isna().sum()'"
   ]
  },
  {
   "cell_type": "code",
   "execution_count": null,
   "id": "6deec1c4-d22d-48a2-be80-e38b9dd71e83",
   "metadata": {},
   "outputs": [],
   "source": [
    "import pandas as pd\n",
    "\n",
    "\n"
   ]
  },
  {
   "cell_type": "markdown",
   "id": "11ad678f-2596-4f83-885c-64bf9257e8d5",
   "metadata": {},
   "source": [
    "### Exercise 2\n",
    "### Defining a new column\n",
    "Can you make a new column for average like per post? \n",
    "\n",
    "Note: dividing `num_likes` with `post_count`, save the result in a new column of the engagement dataset."
   ]
  },
  {
   "cell_type": "code",
   "execution_count": null,
   "id": "27bb1efa-4277-4d42-85a8-eb896a4baaf0",
   "metadata": {},
   "outputs": [],
   "source": []
  },
  {
   "cell_type": "markdown",
   "id": "c0f008e6-4694-47b0-bd4c-a77c51ebe682",
   "metadata": {
    "tags": []
   },
   "source": [
    "### Exercise 3\n",
    "### Merging Datasets\n",
    "Can you merge the engagement dataset with the page info dataset? Remember to specify which column to join on.\n",
    "\n",
    "Tips: use the `.merge()` function/method, remember to choose the right `how=` and `on=` parameters."
   ]
  },
  {
   "cell_type": "code",
   "execution_count": null,
   "id": "41eb752f-dcba-44fa-aca2-238d6d5facd1",
   "metadata": {},
   "outputs": [],
   "source": []
  },
  {
   "cell_type": "markdown",
   "id": "6c8c8595-d21a-45be-9a7b-9f93f1f1414c",
   "metadata": {},
   "source": [
    "### Exercise 4\n",
    "### Grouping and Aggregation\n",
    "\n",
    "Try calculate the average post count for left leaning pages and non-left learning pages."
   ]
  },
  {
   "cell_type": "code",
   "execution_count": null,
   "id": "26a337a5-0836-4771-bd0d-bfc06582fc42",
   "metadata": {},
   "outputs": [],
   "source": []
  }
 ],
 "metadata": {
  "kernelspec": {
   "display_name": "Python 3 (ipykernel)",
   "language": "python",
   "name": "python3"
  },
  "language_info": {
   "codemirror_mode": {
    "name": "ipython",
    "version": 3
   },
   "file_extension": ".py",
   "mimetype": "text/x-python",
   "name": "python",
   "nbconvert_exporter": "python",
   "pygments_lexer": "ipython3",
   "version": "3.9.18"
  }
 },
 "nbformat": 4,
 "nbformat_minor": 5
}
