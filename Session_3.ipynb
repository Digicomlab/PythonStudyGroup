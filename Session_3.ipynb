{
 "cells": [
  {
   "cell_type": "markdown",
   "id": "82cff344-11a1-4484-a27c-7ae3148f4deb",
   "metadata": {},
   "source": [
    "## Exercise 1\n",
    "\n",
    "Write code using find() and string slicing to extract the number at the end of the line below. Convert the extracted value to a floating point number and print it out."
   ]
  },
  {
   "cell_type": "code",
   "execution_count": null,
   "id": "8719d4f1-feb7-40df-81e2-df69ad0f3439",
   "metadata": {},
   "outputs": [],
   "source": [
    "text = \"X-DSPAM-Confidence:    0.8475\"\n",
    "\n",
    "# Find the index of the number\n",
    "\n",
    "# Use [] to extract only the number, note [10:] will extract from 10 to the end of the string\n",
    "\n",
    "# Turn it into float type"
   ]
  },
  {
   "cell_type": "markdown",
   "id": "fec215ad-6cd6-4c4f-ac3a-409cea0e2492",
   "metadata": {},
   "source": [
    "## Exercise 2\n",
    "\n",
    "Write a program that opens and reads through the file `mbox-short.txt`, looking for lines of the form:\n",
    "\n",
    "`X-DSPAM-Confidence:    0.8475`\n",
    "\n",
    "Count these lines and extract the floating point values from each of the lines and compute the average of those values.\n",
    "\n",
    "*Notes about files and working directory: By default, when you opens Jupyter Lab (Python), it will pick a folder in your computer as the working directory. Working directory is a particular directory (folder) within which you are assumed to be working with. To check your working directory you could use `os.getcwd()`. There are normally two ways to read in a file: 1. put the file in the working directory and read using the file name; or 2. use the path to the file.*"
   ]
  },
  {
   "cell_type": "code",
   "execution_count": null,
   "id": "0177ceb0-b530-4645-9eb2-c79456caba84",
   "metadata": {},
   "outputs": [],
   "source": [
    "# Just for your reference, this is how you check your current working directory\n",
    "\n",
    "import os\n",
    "os.getcwd()"
   ]
  },
  {
   "cell_type": "code",
   "execution_count": null,
   "id": "5e79a44f-80cd-40d2-a5ff-41fe484a5470",
   "metadata": {},
   "outputs": [],
   "source": [
    "# Codes that download the file to your drive\n",
    "from urllib.request import urlretrieve\n",
    "urlretrieve(\"https://raw.githubusercontent.com/justinchuntingho/PythonStudyGroup/main/mbox-short.txt\", \"mbox-short.txt\")"
   ]
  },
  {
   "cell_type": "code",
   "execution_count": null,
   "id": "a1e9ff93-0fbb-422f-ae7d-2c2596a8b455",
   "metadata": {},
   "outputs": [],
   "source": [
    "# Here's some sample code you can use.\n",
    "fh = open(\"mbox-short.txt\")\n",
    "for line in fh:\n",
    "    if not line.startswith(\"X-DSPAM-Confidence:\"):\n",
    "        continue\n",
    "    print(line)"
   ]
  },
  {
   "cell_type": "markdown",
   "id": "950ea23c-5dea-4978-a2f4-25aad15a6e88",
   "metadata": {},
   "source": [
    "## Exercise 3\n",
    "\n",
    "Write a program to extract all the email addresses from [here](https://ascor.uva.nl/staff/faculty.html). You will need to use `find()` to locate if the line contains `mailto:`, which is a html code for email address. Also remember python will return -1 if the string you specify cannot be found. Finally, there are multiple ways to extract only the email, the easiest is probably using multiple combinations of `find()` and `[ ]`.\n",
    "\n"
   ]
  },
  {
   "cell_type": "code",
   "execution_count": null,
   "id": "46e9e7ac-9152-47ca-9fd5-e57ddd79ad42",
   "metadata": {},
   "outputs": [],
   "source": [
    "# Codes to download the html\n",
    "urlretrieve(\"https://ascor.uva.nl/staff/faculty.html\", \"faculty.html\")"
   ]
  },
  {
   "cell_type": "code",
   "execution_count": null,
   "id": "a59f4b1e-5c6e-4159-a552-5f99b36d429c",
   "metadata": {},
   "outputs": [],
   "source": [
    "# Here's some sample codes that print the html line by line\n",
    "# Replace it with codes that print only the email\n",
    "fh = open(\"faculty.html\")\n",
    "for line in fh:\n",
    "    print(line)\n",
    "    \n",
    "    # use find() to find the index of \"mailto:\" \n",
    "    \n",
    "    # check if the line contain \"mailto:\" \n",
    "    \n",
    "    # extract only the email from the line"
   ]
  }
 ],
 "metadata": {
  "kernelspec": {
   "display_name": "Python 3 (ipykernel)",
   "language": "python",
   "name": "python3"
  },
  "language_info": {
   "codemirror_mode": {
    "name": "ipython",
    "version": 3
   },
   "file_extension": ".py",
   "mimetype": "text/x-python",
   "name": "python",
   "nbconvert_exporter": "python",
   "pygments_lexer": "ipython3",
   "version": "3.9.18"
  }
 },
 "nbformat": 4,
 "nbformat_minor": 5
}
